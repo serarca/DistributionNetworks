{
 "cells": [
  {
   "cell_type": "code",
   "execution_count": 30,
   "metadata": {
    "collapsed": false
   },
   "outputs": [],
   "source": [
    "#%matplotlib inline\n",
    "import datetime\n",
    "from dateutil import parser\n",
    "import math\n",
    "from dateutil.parser import parse\n",
    "from geopandas import GeoDataFrame\n",
    "import pandas as pd\n",
    "import numpy as np\n",
    "from shapely.geometry import Point\n",
    "import json\n",
    "import ast\n",
    "import sys\n",
    "import pickle\n",
    "from __future__ import print_function\n",
    "import os\n",
    "import collections\n",
    "\n",
    "folder_project = \"/Users/sergiocamelo/Dropbox/Sergio-Joann/\"\n",
    "os.chdir(folder_project)\n",
    "sys.path.insert(0, 'Code/VRPEngine/pyCode')\n",
    "\n",
    "sys.path.insert(0, 'Code/VRPEngine/C++Engine')\n",
    "sys.path.insert(0, 'Code/VRPEngine/pyCode/tsp')\n",
    "\n",
    "import solver as solver\n",
    "import distances as distances\n",
    "import VRPClass\n",
    "import road_distance\n",
    "import json\n",
    "\n"
   ]
  },
  {
   "cell_type": "code",
   "execution_count": 31,
   "metadata": {
    "collapsed": true
   },
   "outputs": [],
   "source": [
    "days_analysis = 14\n",
    "ts = 'Jan142018'\n",
    "data_folder = 'StandardizedData/'\n",
    "results_folder_ts = 'Results/'+ ts + \"/\" \n",
    "folder_instances = results_folder_ts+\"instances\"\n",
    "solution_folder = results_folder_ts+'solution_routes/'\n",
    "\n",
    "dim_farmers_file = 'dim_farmers_sample.csv'\n",
    "\n"
   ]
  },
  {
   "cell_type": "code",
   "execution_count": 32,
   "metadata": {
    "collapsed": true
   },
   "outputs": [],
   "source": [
    "routes_path = results_folder_ts+'parsed_routes.json'\n"
   ]
  },
  {
   "cell_type": "code",
   "execution_count": 33,
   "metadata": {
    "collapsed": false
   },
   "outputs": [],
   "source": [
    "# Extract routes\n",
    "with open(routes_path) as infile:\n",
    "    result = json.load(infile)\n"
   ]
  },
  {
   "cell_type": "code",
   "execution_count": null,
   "metadata": {
    "collapsed": true
   },
   "outputs": [],
   "source": []
  },
  {
   "cell_type": "code",
   "execution_count": 34,
   "metadata": {
    "collapsed": false
   },
   "outputs": [],
   "source": [
    "# Create dictionary of farmer to cluster\n",
    "dim_farmers = pd.read_csv(results_folder_ts+\"data_cleaning_results/dim_pickups.csv\")\n",
    "farmer_to_cluster = {}\n",
    "for i,row in dim_farmers.iterrows():\n",
    "    farmer_to_cluster[row['plot_id']] = row['cluster_id']\n",
    "    \n",
    "# # Create dictionary of farmer to cluster\n",
    "# dim_farmers = pd.read_csv(data_folder+\"dim_farmers.csv\")\n",
    "# farmer_to_cluster = {}\n",
    "# for i,row in dim_farmers.iterrows():\n",
    "#     farmer_to_cluster[row['farmer_id']+'-'+str(row['plot_number'])] = row['cluster_id']"
   ]
  },
  {
   "cell_type": "code",
   "execution_count": 35,
   "metadata": {
    "collapsed": false
   },
   "outputs": [],
   "source": [
    "# Create dictionary of farmer loads\n",
    "farmer_load_dict = {}\n",
    "for i,row in dim_farmers.iterrows():\n",
    "    farmer_load_dict[row['plot_id']] = np.ceil(row[\"volume\"] * 10)/10\n",
    "    \n",
    "# # Create dictionary of farmer loads\n",
    "# volume = \"high_volume\"\n",
    "# farmer_load_dict = {}\n",
    "# for i,row in dim_farmers.iterrows():\n",
    "#     farmer_load_dict[row['farmer_id']+'-'+str(row['plot_number'])] = np.ceil(row[volume] * 10)/10"
   ]
  },
  {
   "cell_type": "code",
   "execution_count": 37,
   "metadata": {
    "collapsed": false
   },
   "outputs": [],
   "source": [
    "# Create dictionary of truck loads\n",
    "dim_trucks = pd.read_csv(results_folder_ts+\"data_cleaning_results/dim_trucks.csv\")\n",
    "truck_load_dict = {}\n",
    "for i,row in dim_trucks.iterrows():\n",
    "    truck_load_dict[row['truck_id']] = float(row[\"capacity\"])"
   ]
  },
  {
   "cell_type": "code",
   "execution_count": 39,
   "metadata": {
    "collapsed": false
   },
   "outputs": [],
   "source": [
    "# Create a truck to cluster dict\n",
    "trucks = pd.read_csv(results_folder_ts+\"data_cleaning_results/dim_trucks.csv\")\n",
    "truck_to_cluster = {}\n",
    "for i,row in trucks.iterrows():\n",
    "    truck_to_cluster[row['truck_id']] = row['cluster_id']"
   ]
  },
  {
   "cell_type": "code",
   "execution_count": 40,
   "metadata": {
    "collapsed": true
   },
   "outputs": [],
   "source": [
    "type_optimization = \"daily\"\n",
    "routes = [r for r in result if r['type'] == type_optimization]\n",
    "# Get rid of the polygons for the moment\n",
    "for r in routes:\n",
    "    if \"polygon\" in r:\n",
    "        del r['polygon']"
   ]
  },
  {
   "cell_type": "code",
   "execution_count": 41,
   "metadata": {
    "collapsed": false
   },
   "outputs": [
    {
     "name": "stdout",
     "output_type": "stream",
     "text": [
      "A total distance of 14332613.574852\n",
      "A total of 0.000000 relations changed\n",
      "A total of 0.000000 fruit changed\n"
     ]
    }
   ],
   "source": [
    "# Calculate total distance\n",
    "\n",
    "total_dist = 0\n",
    "total_time = 0\n",
    "for route in routes:\n",
    "    total_dist += route['distance']\n",
    "    total_time += route['road_time']\n",
    "total_fruit = 0\n",
    "for route in routes:\n",
    "    for farmer in route['route']:\n",
    "        if farmer in farmer_load_dict:\n",
    "            total_fruit += farmer_load_dict[farmer]\n",
    "\n",
    "# Calculate percentage of relationships maintained\n",
    "n_relations = 0\n",
    "all_relations = 0\n",
    "n_fruit = 0\n",
    "for route in routes:\n",
    "    for farmer in route['route']:\n",
    "        if farmer in farmer_to_cluster:\n",
    "            old_cluster = farmer_to_cluster[farmer]\n",
    "            new_cluster = truck_to_cluster[route['truck']]\n",
    "            if new_cluster != old_cluster:\n",
    "                n_relations += 1\n",
    "                n_fruit += farmer_load_dict[farmer]\n",
    "            all_relations += 1\n",
    "            \n",
    "\n",
    "print(\"A total distance of %f\"%(total_dist))\n",
    "\n",
    "print(\"A total of %f relations changed\"%(n_relations/(all_relations + 0.0)))\n",
    "print(\"A total of %f fruit changed\"%(n_fruit/(total_fruit + 0.0)))\n",
    "#print(\"Total surplus increase is %f\"%((np.sum(surplus.values()) - total_surplus_daily)/total_surplus_daily))\n"
   ]
  },
  {
   "cell_type": "code",
   "execution_count": 42,
   "metadata": {
    "collapsed": false
   },
   "outputs": [],
   "source": [
    "# Count number of days worked\n",
    "days_worked = collections.defaultdict((lambda : collections.defaultdict(lambda : 0)))\n",
    "for r in routes:\n",
    "    days_worked[r['cluster']]['daily'] += 1\n",
    "\n",
    "# Calculate efficiency\n",
    "distance_dict = {\n",
    "    'daily': total_dist\n",
    "}\n",
    "time_dict = {\n",
    "    'daily': total_time\n",
    "}\n",
    "\n",
    "# Count quantities\n",
    "quantities_served = collections.defaultdict((lambda : collections.defaultdict(lambda : 0)))\n",
    "for r in routes:\n",
    "    quantities_served[r['cluster']]['daily'] += r['load']\n",
    "\n",
    "# Calculate load of trucks\n",
    "load_trucks = collections.defaultdict((lambda : collections.defaultdict(lambda : [])))\n",
    "for r in routes:\n",
    "    load_trucks[r['truck']]['daily'] = load_trucks[r['truck']]['daily'] + [r['load']/truck_load_dict[r['truck']]]\n",
    "for k in load_trucks.keys():\n",
    "    load_trucks[k]['daily'] = (np.mean(load_trucks[k]['daily']),np.std(load_trucks[k]['daily']))\n",
    "    \n",
    "    \n",
    "# Calculate load of clusters\n",
    "load_clusters = collections.defaultdict((lambda : collections.defaultdict(lambda : 0)))\n",
    "partial_sum = collections.defaultdict((lambda : collections.defaultdict(lambda : 0)))\n",
    "for r in routes:\n",
    "    load_clusters[truck_to_cluster[r['truck']]]['daily'] = load_clusters[truck_to_cluster[r['truck']]]['daily'] + r['load']\n",
    "    partial_sum[truck_to_cluster[r['truck']]]['daily'] = partial_sum[truck_to_cluster[r['truck']]]['daily'] + truck_load_dict[r['truck']]\n",
    "for k in load_clusters.keys():\n",
    "    load_clusters[k]['daily'] = load_clusters[k]['daily']/(partial_sum[k]['daily']+0.0)"
   ]
  },
  {
   "cell_type": "code",
   "execution_count": 43,
   "metadata": {
    "collapsed": true
   },
   "outputs": [],
   "source": [
    "type_optimization = \"spatial\"\n",
    "routes = [r for r in result if r['type'] == type_optimization]\n",
    "# Get rid of the polygons for the moment\n",
    "for r in routes:\n",
    "    if \"polygon\" in r:\n",
    "        del r['polygon']"
   ]
  },
  {
   "cell_type": "code",
   "execution_count": 44,
   "metadata": {
    "collapsed": false
   },
   "outputs": [
    {
     "name": "stdout",
     "output_type": "stream",
     "text": [
      "A total distance of 8956604.561770\n",
      "A total of 0.831016 relations changed\n",
      "A total of 0.814746 fruit changed\n"
     ]
    }
   ],
   "source": [
    "# Calculate total distance\n",
    "\n",
    "total_dist = 0\n",
    "total_time = 0\n",
    "for route in routes:\n",
    "    total_dist += route['distance']\n",
    "    total_time += route['road_time']\n",
    "total_fruit = 0\n",
    "for route in routes:\n",
    "    for farmer in route['route']:\n",
    "        if farmer in farmer_load_dict:\n",
    "            total_fruit += farmer_load_dict[farmer]\n",
    "\n",
    "# Calculate percentage of relationships maintained\n",
    "n_relations = 0\n",
    "all_relations = 0\n",
    "n_fruit = 0\n",
    "for route in routes:\n",
    "    for farmer in route['route']:\n",
    "        if farmer in farmer_to_cluster:\n",
    "            old_cluster = farmer_to_cluster[farmer]\n",
    "            new_cluster = truck_to_cluster[route['truck']]\n",
    "            if new_cluster != old_cluster:\n",
    "                n_relations += 1\n",
    "                n_fruit += farmer_load_dict[farmer]\n",
    "            all_relations += 1\n",
    "            \n",
    "\n",
    "print(\"A total distance of %f\"%(total_dist))\n",
    "\n",
    "print(\"A total of %f relations changed\"%(n_relations/(all_relations + 0.0)))\n",
    "print(\"A total of %f fruit changed\"%(n_fruit/(total_fruit + 0.0)))\n",
    "#print(\"Total surplus increase is %f\"%((np.sum(surplus.values()) - total_surplus_daily)/total_surplus_daily))\n"
   ]
  },
  {
   "cell_type": "code",
   "execution_count": 45,
   "metadata": {
    "collapsed": false
   },
   "outputs": [
    {
     "name": "stderr",
     "output_type": "stream",
     "text": [
      "/Users/sergiocamelo/anaconda/lib/python2.7/site-packages/numpy/core/fromnumeric.py:2957: RuntimeWarning: Mean of empty slice.\n",
      "  out=out, **kwargs)\n",
      "/Users/sergiocamelo/anaconda/lib/python2.7/site-packages/numpy/core/_methods.py:135: RuntimeWarning: Degrees of freedom <= 0 for slice\n",
      "  keepdims=keepdims)\n"
     ]
    }
   ],
   "source": [
    "# Count number of days worked\n",
    "for r in routes:\n",
    "    days_worked[truck_to_cluster[r['truck']]]['spatial'] = 0\n",
    "for r in routes:\n",
    "    days_worked[truck_to_cluster[r['truck']]]['spatial'] += 1\n",
    "\n",
    "# Calculate efficiency\n",
    "distance_dict.update({\n",
    "    'spatial': total_dist\n",
    "})\n",
    "time_dict.update({\n",
    "    'spatial': total_time\n",
    "})\n",
    "\n",
    "# Count quantities\n",
    "for r in routes:\n",
    "    quantities_served[truck_to_cluster[r['truck']]]['spatial'] = 0\n",
    "\n",
    "for r in routes:\n",
    "    quantities_served[truck_to_cluster[r['truck']]]['spatial'] += r['load']\n",
    "\n",
    "# Calculate load of trucks\n",
    "for r in routes:\n",
    "    load_trucks[r['truck']]['spatial'] = []\n",
    "\n",
    "for r in routes:\n",
    "    load_trucks[r['truck']]['spatial'] = load_trucks[r['truck']]['spatial'] + [r['load']/truck_load_dict[r['truck']]]\n",
    "for k in load_trucks.keys():\n",
    "    load_trucks[k]['spatial'] = (np.mean(load_trucks[k]['spatial']),np.std(load_trucks[k]['spatial']))\n",
    "    "
   ]
  },
  {
   "cell_type": "code",
   "execution_count": 46,
   "metadata": {
    "collapsed": true
   },
   "outputs": [],
   "source": [
    "m_load_trucks = collections.defaultdict((lambda : collections.defaultdict(lambda : 0)))\n",
    "for k in load_trucks.keys():\n",
    "    m_load_trucks[k]['spatial'] = load_trucks[k]['spatial'][0]\n",
    "    m_load_trucks[k]['daily'] = load_trucks[k]['daily'][0]"
   ]
  },
  {
   "cell_type": "code",
   "execution_count": 49,
   "metadata": {
    "collapsed": false
   },
   "outputs": [],
   "source": [
    "# Calculate the village of each middleman\n",
    "from statistics import mode\n",
    "import collections\n",
    "\n",
    "dim_farmers_confirmed = pd.read_csv(data_folder + 'dim_farmers_confirmed.csv')\n",
    "most_common = {}\n",
    "for cluster_id, group in dim_farmers_confirmed.groupby('cluster_id'):\n",
    "    counter=collections.Counter(group['house_village_name'])\n",
    "    most_common[cluster_id] = counter.most_common(1)[0][0]\n",
    "\n",
    "farmer_to_village = {}\n",
    "dim_all_farmers = pd.read_csv(data_folder + 'dim_all_farmers.csv')\n",
    "for i,row in dim_all_farmers.iterrows():\n",
    "    farmer_to_village[row['farmer_id']+'-'+str(row['plot_number'])] = row['house_village_name']\n",
    "dim_farmers_sample = pd.read_csv(data_folder + 'dim_farmers_sample.csv')\n",
    "for i,row in dim_farmers_sample.iterrows():\n",
    "    farmer_to_village[row['farmer_id']+'-'+str(row['plot_number'])] = row['house_village_name']\n",
    "\n",
    "\n",
    "n_relations_village = 0\n",
    "for route in routes:\n",
    "    for farmer in route['route']:\n",
    "        if farmer in farmer_to_cluster:\n",
    "            old_cluster = farmer_to_cluster[farmer]\n",
    "            new_cluster = truck_to_cluster[route['truck']]\n",
    "            if new_cluster != old_cluster:\n",
    "                if most_common[new_cluster] != farmer_to_village[farmer]:\n",
    "                    n_relations_village += 1\n",
    "            "
   ]
  },
  {
   "cell_type": "code",
   "execution_count": 51,
   "metadata": {
    "collapsed": false
   },
   "outputs": [
    {
     "name": "stdout",
     "output_type": "stream",
     "text": [
      "Total Fruit 1624.7999999999984\n",
      "Time eff  0.344343875598\n",
      "Dist eff  0.375089231633\n",
      "Days worked less  0.34036144578313254\n",
      "Average load trucks daily 0.6603677664927664\n",
      "Average load trucks spatial 0.826093966697415\n",
      "A total of 0.814746 fruit changed\n",
      "A total of 0.831016 relations changed\n",
      "A total of 0.542246 village relations changed\n",
      "Total profit reduction: 0.129812\n"
     ]
    }
   ],
   "source": [
    "# Efficiency\n",
    "print(\"Total Fruit\", total_fruit)\n",
    "print(\"Time eff \", (time_dict['daily']-time_dict['spatial'])/time_dict['daily'])\n",
    "print(\"Dist eff \", (distance_dict['daily']-distance_dict['spatial'])/distance_dict['daily'])\n",
    "# Changed Relationships\n",
    "import pandas as pd\n",
    "print(\"Days worked less \",1-pd.DataFrame(days_worked).sum(axis=1)[1]/(pd.DataFrame(days_worked).sum(axis=1)[0]+0.0))\n",
    "print(\"Average load trucks daily\", np.nanmean([m_load_trucks[k]['daily'] for k in m_load_trucks]))\n",
    "print(\"Average load trucks spatial\", np.nanmean([m_load_trucks[k]['spatial'] for k in m_load_trucks]))\n",
    "\n",
    "print(\"A total of %f fruit changed\"%(n_fruit/(total_fruit + 0.0)))\n",
    "print(\"A total of %f relations changed\"%(n_relations/(all_relations + 0.0)))\n",
    "print(\"A total of %f village relations changed\"%(n_relations_village/(all_relations + 0.0)))\n",
    "\n",
    "\n",
    "profit = 247*total_fruit*1000\n",
    "costs_spatial = 7199.143394 * distance_dict['spatial']/1000\n",
    "costs_daily = 7199.143394 * distance_dict['daily']/1000\n",
    "print(\"Total profit reduction: %f\"%((profit - costs_spatial)/(profit - costs_daily)-1))\n"
   ]
  },
  {
   "cell_type": "code",
   "execution_count": 52,
   "metadata": {
    "collapsed": false
   },
   "outputs": [
    {
     "data": {
      "text/html": [
       "<div>\n",
       "<table border=\"1\" class=\"dataframe\">\n",
       "  <thead>\n",
       "    <tr style=\"text-align: right;\">\n",
       "      <th></th>\n",
       "      <th>0</th>\n",
       "      <th>1</th>\n",
       "      <th>2</th>\n",
       "      <th>3</th>\n",
       "      <th>4</th>\n",
       "      <th>5</th>\n",
       "      <th>6</th>\n",
       "      <th>7</th>\n",
       "    </tr>\n",
       "  </thead>\n",
       "  <tbody>\n",
       "    <tr>\n",
       "      <th>0</th>\n",
       "      <td>1624.8</td>\n",
       "      <td>0.344344</td>\n",
       "      <td>0.375089</td>\n",
       "      <td>0.340361</td>\n",
       "      <td>0.660368</td>\n",
       "      <td>0.826094</td>\n",
       "      <td>0.814746</td>\n",
       "      <td>0.129812</td>\n",
       "    </tr>\n",
       "  </tbody>\n",
       "</table>\n",
       "</div>"
      ],
      "text/plain": [
       "        0         1         2         3         4         5         6  \\\n",
       "0  1624.8  0.344344  0.375089  0.340361  0.660368  0.826094  0.814746   \n",
       "\n",
       "          7  \n",
       "0  0.129812  "
      ]
     },
     "execution_count": 52,
     "metadata": {},
     "output_type": "execute_result"
    }
   ],
   "source": [
    "pd.DataFrame([total_fruit,\n",
    "              (time_dict['daily']-time_dict['spatial'])/time_dict['daily'],\n",
    "            \n",
    "            (distance_dict['daily']-distance_dict['spatial'])/distance_dict['daily'],\n",
    "1-pd.DataFrame(days_worked).sum(axis=1)[1]/(pd.DataFrame(days_worked).sum(axis=1)[0]+0.0),\n",
    "np.nanmean([m_load_trucks[k]['daily'] for k in m_load_trucks]),\n",
    "np.nanmean([m_load_trucks[k]['spatial'] for k in m_load_trucks]),\n",
    "(n_fruit/(total_fruit + 0.0)),\n",
    "((profit - costs_spatial)/(profit - costs_daily)-1)\n",
    "            \n",
    "       ] ).transpose()"
   ]
  },
  {
   "cell_type": "code",
   "execution_count": null,
   "metadata": {
    "collapsed": true
   },
   "outputs": [],
   "source": []
  }
 ],
 "metadata": {
  "anaconda-cloud": {},
  "kernelspec": {
   "display_name": "Python [conda root]",
   "language": "python",
   "name": "conda-root-py"
  },
  "language_info": {
   "codemirror_mode": {
    "name": "ipython",
    "version": 2
   },
   "file_extension": ".py",
   "mimetype": "text/x-python",
   "name": "python",
   "nbconvert_exporter": "python",
   "pygments_lexer": "ipython2",
   "version": "2.7.10"
  }
 },
 "nbformat": 4,
 "nbformat_minor": 1
}
