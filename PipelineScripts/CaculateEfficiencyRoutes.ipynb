{
 "cells": [
  {
   "cell_type": "code",
   "execution_count": 10,
   "metadata": {
    "collapsed": false
   },
   "outputs": [],
   "source": [
    "#%matplotlib inline\n",
    "import datetime\n",
    "from dateutil import parser\n",
    "import math\n",
    "from dateutil.parser import parse\n",
    "from geopandas import GeoDataFrame\n",
    "import pandas as pd\n",
    "import numpy as np\n",
    "from shapely.geometry import Point\n",
    "import json\n",
    "import ast\n",
    "import sys\n",
    "import pickle\n",
    "from __future__ import print_function\n",
    "import os\n",
    "import collections\n",
    "\n",
    "folder_project = \"/Users/sergiocamelo/Dropbox/Sergio-Joann/\"\n",
    "os.chdir(folder_project)\n",
    "sys.path.insert(0, 'Code/VRPEngine/pyCode')\n",
    "\n",
    "sys.path.insert(0, 'Code/VRPEngine/C++Engine')\n",
    "sys.path.insert(0, 'Code/VRPEngine/pyCode/tsp')\n",
    "\n",
    "import solver as solver\n",
    "import distances as distances\n",
    "import VRPClass\n",
    "import road_distance\n",
    "import json\n",
    "\n"
   ]
  },
  {
   "cell_type": "code",
   "execution_count": 11,
   "metadata": {
    "collapsed": true
   },
   "outputs": [],
   "source": [
    "days_analysis = 14\n",
    "ts = 'Jan242019-nopenalty'\n",
    "data_folder = 'StandardizedData/'\n",
    "results_folder_ts = 'Results/'+ ts + \"/\" \n",
    "folder_instances = results_folder_ts+\"instances\"\n",
    "solution_folder = results_folder_ts+'solution_routes/'\n",
    "\n",
    "dim_farmers_file = 'dim_farmers_sample.csv'\n",
    "\n"
   ]
  },
  {
   "cell_type": "code",
   "execution_count": 12,
   "metadata": {
    "collapsed": true
   },
   "outputs": [],
   "source": [
    "routes_path = results_folder_ts+'parsed_routes.json'\n"
   ]
  },
  {
   "cell_type": "code",
   "execution_count": 13,
   "metadata": {
    "collapsed": false
   },
   "outputs": [],
   "source": [
    "# Extract routes\n",
    "with open(routes_path) as infile:\n",
    "    result = json.load(infile)\n"
   ]
  },
  {
   "cell_type": "code",
   "execution_count": null,
   "metadata": {
    "collapsed": true
   },
   "outputs": [],
   "source": []
  },
  {
   "cell_type": "code",
   "execution_count": 14,
   "metadata": {
    "collapsed": false
   },
   "outputs": [],
   "source": [
    "# Create dictionary of farmer to cluster\n",
    "dim_farmers = pd.read_csv(results_folder_ts+\"data_cleaning_results/dim_pickups_feasible.csv\")\n",
    "farmer_to_cluster = {}\n",
    "for i,row in dim_farmers.iterrows():\n",
    "    farmer_to_cluster[row['plot_id']] = row['cluster_id']\n",
    "    \n",
    "# # Create dictionary of farmer to cluster\n",
    "# dim_farmers = pd.read_csv(data_folder+\"dim_farmers.csv\")\n",
    "# farmer_to_cluster = {}\n",
    "# for i,row in dim_farmers.iterrows():\n",
    "#     farmer_to_cluster[row['farmer_id']+'-'+str(row['plot_number'])] = row['cluster_id']"
   ]
  },
  {
   "cell_type": "code",
   "execution_count": 15,
   "metadata": {
    "collapsed": false
   },
   "outputs": [],
   "source": [
    "# Create dictionary of farmer loads\n",
    "farmer_load_dict = {}\n",
    "for i,row in dim_farmers.iterrows():\n",
    "    farmer_load_dict[row['plot_id']] = np.ceil(row[\"volume\"] * 10)/10\n",
    "    \n",
    "# # Create dictionary of farmer loads\n",
    "# volume = \"high_volume\"\n",
    "# farmer_load_dict = {}\n",
    "# for i,row in dim_farmers.iterrows():\n",
    "#     farmer_load_dict[row['farmer_id']+'-'+str(row['plot_number'])] = np.ceil(row[volume] * 10)/10"
   ]
  },
  {
   "cell_type": "code",
   "execution_count": 16,
   "metadata": {
    "collapsed": false
   },
   "outputs": [],
   "source": [
    "# Create dictionary of truck loads\n",
    "dim_trucks = pd.read_csv(results_folder_ts+\"data_cleaning_results/dim_trucks.csv\")\n",
    "truck_load_dict = {}\n",
    "for i,row in dim_trucks.iterrows():\n",
    "    truck_load_dict[row['truck_id']] = float(row[\"capacity\"])"
   ]
  },
  {
   "cell_type": "code",
   "execution_count": 17,
   "metadata": {
    "collapsed": false
   },
   "outputs": [],
   "source": [
    "# Create a truck to cluster dict\n",
    "trucks = pd.read_csv(results_folder_ts+\"data_cleaning_results/dim_trucks.csv\")\n",
    "truck_to_cluster = {}\n",
    "for i,row in trucks.iterrows():\n",
    "    truck_to_cluster[row['truck_id']] = row['cluster_id']"
   ]
  },
  {
   "cell_type": "code",
   "execution_count": 18,
   "metadata": {
    "collapsed": true
   },
   "outputs": [],
   "source": [
    "type_optimization = \"daily\"\n",
    "routes = [r for r in result if r['type'] == type_optimization]\n",
    "# Get rid of the polygons for the moment\n",
    "for r in routes:\n",
    "    if \"polygon\" in r:\n",
    "        del r['polygon']"
   ]
  },
  {
   "cell_type": "code",
   "execution_count": 19,
   "metadata": {
    "collapsed": false
   },
   "outputs": [
    {
     "name": "stdout",
     "output_type": "stream",
     "text": [
      "A total distance of 11260067.283138\n",
      "A total of 0.000000 relations changed\n",
      "A total of 0.000000 fruit changed\n"
     ]
    }
   ],
   "source": [
    "# Calculate total distance\n",
    "total_dist = 0\n",
    "total_time = 0\n",
    "for route in routes:\n",
    "    total_dist += route['distance']\n",
    "    total_time += route['road_time']\n",
    "total_fruit = 0\n",
    "for route in routes:\n",
    "    for farmer in route['route']:\n",
    "        if farmer in farmer_load_dict:\n",
    "            total_fruit += farmer_load_dict[farmer]\n",
    "\n",
    "# Calculate percentage of relationships maintained\n",
    "n_relations = 0\n",
    "all_relations = 0\n",
    "n_fruit = 0\n",
    "for route in routes:\n",
    "    for farmer in route['route']:\n",
    "        if farmer in farmer_to_cluster:\n",
    "            old_cluster = farmer_to_cluster[farmer]\n",
    "            new_cluster = truck_to_cluster[route['truck']]\n",
    "            if new_cluster != old_cluster:\n",
    "                n_relations += 1\n",
    "                n_fruit += farmer_load_dict[farmer]\n",
    "            all_relations += 1\n",
    "            \n",
    "\n",
    "print(\"A total distance of %f\"%(total_dist))\n",
    "\n",
    "print(\"A total of %f relations changed\"%(n_relations/(all_relations + 0.0)))\n",
    "print(\"A total of %f fruit changed\"%(n_fruit/(total_fruit + 0.0)))\n",
    "#print(\"Total surplus increase is %f\"%((np.sum(surplus.values()) - total_surplus_daily)/total_surplus_daily))\n"
   ]
  },
  {
   "cell_type": "code",
   "execution_count": 20,
   "metadata": {
    "collapsed": false
   },
   "outputs": [
    {
     "data": {
      "text/plain": [
       "defaultdict(<function __main__.<lambda>>,\n",
       "            {0: 812982.4164520002,\n",
       "             1: 828507.3310159999,\n",
       "             2: 831185.2827159998,\n",
       "             3: 980344.226772,\n",
       "             4: 669950.130564,\n",
       "             5: 689743.768876,\n",
       "             6: 1094095.778812,\n",
       "             7: 739526.8357879999,\n",
       "             8: 786442.0143800001,\n",
       "             9: 696101.2476399998,\n",
       "             10: 778369.055688,\n",
       "             11: 690058.611236,\n",
       "             12: 829433.3764359999,\n",
       "             13: 833327.206762})"
      ]
     },
     "execution_count": 20,
     "metadata": {},
     "output_type": "execute_result"
    }
   ],
   "source": [
    "#Calculate total distance per day\n",
    "total_dist = collections.defaultdict(lambda: 0)\n",
    "for route in routes:\n",
    "    total_dist[route['day']] += route['distance']\n",
    "total_fruit = collections.defaultdict(lambda: 0)\n",
    "for route in routes:\n",
    "    for farmer in route['route']:\n",
    "        if farmer in farmer_load_dict:\n",
    "            total_fruit[route['day']] += farmer_load_dict[farmer]\n",
    "total_dist"
   ]
  },
  {
   "cell_type": "code",
   "execution_count": 183,
   "metadata": {
    "collapsed": false
   },
   "outputs": [],
   "source": [
    "# Calculate farmers\n",
    "all_farmers = []\n",
    "for route in routes:\n",
    "    if route['day'] == 0:\n",
    "        all_farmers = all_farmers+route['farmers']"
   ]
  },
  {
   "cell_type": "code",
   "execution_count": 187,
   "metadata": {
    "collapsed": false
   },
   "outputs": [],
   "source": [
    "f_belongs = lambda x:0 in eval(x)\n",
    "dim_farmers_day = dim_farmers[dim_farmers['pickup']==0]"
   ]
  },
  {
   "cell_type": "code",
   "execution_count": 166,
   "metadata": {
    "collapsed": false
   },
   "outputs": [
    {
     "data": {
      "text/plain": [
       "{u'access': 315.865448,\n",
       " u'asphalt': 15880.8,\n",
       " u'cluster': 108,\n",
       " u'day': 0,\n",
       " u'detailed_distance': 41095.965448,\n",
       " u'dirt': 11062.9,\n",
       " u'distance': 41095.965448,\n",
       " u'farmers': [u'F14020081849-1', u'D00000000278-1'],\n",
       " u'gravel': 10288.8,\n",
       " u'load': 8.8,\n",
       " u'load_perc': 0.09777777777777778,\n",
       " u'loads': [7.0, 1.8],\n",
       " u'max_load': 90,\n",
       " u'n_farmers': 2,\n",
       " u'retained_farmer': [1, 1],\n",
       " u'retained_farmers': 2,\n",
       " u'road_time': 9599.462106702125,\n",
       " u'route': [u't_0', u'F14020081849-1', u'D00000000278-1', u'SKIP', u't_0'],\n",
       " u'truck': u't_0',\n",
       " u'type': u'daily',\n",
       " u'unknown': 0,\n",
       " u'waypoints': [[u't_0', [-0.65444737, 102.57448149999999]],\n",
       "  [u'F14020081849-1', [-0.650714, 102.555748]],\n",
       "  [u'D00000000278-1', [-0.65630605, 102.5697181]],\n",
       "  [u'SKIP', [-0.68269, 102.5015]],\n",
       "  [u't_0', [-0.65444737, 102.57448149999999]]]}"
      ]
     },
     "execution_count": 166,
     "metadata": {},
     "output_type": "execute_result"
    }
   ],
   "source": [
    "routes[0]"
   ]
  },
  {
   "cell_type": "code",
   "execution_count": 167,
   "metadata": {
    "collapsed": false
   },
   "outputs": [],
   "source": [
    "# Count number of days worked\n",
    "days_worked = collections.defaultdict((lambda : collections.defaultdict(lambda : 0)))\n",
    "for r in routes:\n",
    "    days_worked[r['cluster']]['daily'] += 1\n",
    "\n",
    "# Calculate efficiency\n",
    "distance_dict = {\n",
    "    'daily': total_dist\n",
    "}\n",
    "time_dict = {\n",
    "    'daily': total_time\n",
    "}\n",
    "\n",
    "# Count quantities\n",
    "quantities_served = collections.defaultdict((lambda : collections.defaultdict(lambda : 0)))\n",
    "for r in routes:\n",
    "    quantities_served[r['cluster']]['daily'] += r['load']\n",
    "\n",
    "# Calculate load of trucks\n",
    "load_trucks = collections.defaultdict((lambda : collections.defaultdict(lambda : [])))\n",
    "for r in routes:\n",
    "    load_trucks[r['truck']]['daily'] = load_trucks[r['truck']]['daily'] + [r['load']/truck_load_dict[r['truck']]]\n",
    "for k in load_trucks.keys():\n",
    "    load_trucks[k]['daily'] = (np.mean(load_trucks[k]['daily']),np.std(load_trucks[k]['daily']))\n",
    "    \n",
    "    \n",
    "# Calculate load of clusters\n",
    "load_clusters = collections.defaultdict((lambda : collections.defaultdict(lambda : 0)))\n",
    "partial_sum = collections.defaultdict((lambda : collections.defaultdict(lambda : 0)))\n",
    "for r in routes:\n",
    "    load_clusters[truck_to_cluster[r['truck']]]['daily'] = load_clusters[truck_to_cluster[r['truck']]]['daily'] + r['load']\n",
    "    partial_sum[truck_to_cluster[r['truck']]]['daily'] = partial_sum[truck_to_cluster[r['truck']]]['daily'] + truck_load_dict[r['truck']]\n",
    "for k in load_clusters.keys():\n",
    "    load_clusters[k]['daily'] = load_clusters[k]['daily']/(partial_sum[k]['daily']+0.0)"
   ]
  },
  {
   "cell_type": "code",
   "execution_count": 168,
   "metadata": {
    "collapsed": true
   },
   "outputs": [],
   "source": [
    "type_optimization = \"spatial\"\n",
    "routes = [r for r in result if r['type'] == type_optimization]\n",
    "# Get rid of the polygons for the moment\n",
    "for r in routes:\n",
    "    if \"polygon\" in r:\n",
    "        del r['polygon']"
   ]
  },
  {
   "cell_type": "code",
   "execution_count": 169,
   "metadata": {
    "collapsed": false
   },
   "outputs": [
    {
     "name": "stdout",
     "output_type": "stream",
     "text": [
      "A total distance of 6900232.770926\n",
      "A total of 0.819695 relations changed\n",
      "A total of 0.812178 fruit changed\n"
     ]
    }
   ],
   "source": [
    "# Calculate total distance\n",
    "total_dist = 0\n",
    "total_time = 0\n",
    "for route in routes:\n",
    "    total_dist += route['distance']\n",
    "    total_time += route['road_time']\n",
    "total_fruit = 0\n",
    "for route in routes:\n",
    "    for farmer in route['route']:\n",
    "        if farmer in farmer_load_dict:\n",
    "            total_fruit += farmer_load_dict[farmer]\n",
    "\n",
    "# Calculate percentage of relationships maintained\n",
    "n_relations = 0\n",
    "all_relations = 0\n",
    "n_fruit = 0\n",
    "for route in routes:\n",
    "    for farmer in route['route']:\n",
    "        if farmer in farmer_to_cluster:\n",
    "            old_cluster = farmer_to_cluster[farmer]\n",
    "            new_cluster = truck_to_cluster[route['truck']]\n",
    "            if new_cluster != old_cluster:\n",
    "                n_relations += 1\n",
    "                n_fruit += farmer_load_dict[farmer]\n",
    "            all_relations += 1\n",
    "            \n",
    "\n",
    "print(\"A total distance of %f\"%(total_dist))\n",
    "\n",
    "print(\"A total of %f relations changed\"%(n_relations/(all_relations + 0.0)))\n",
    "print(\"A total of %f fruit changed\"%(n_fruit/(total_fruit + 0.0)))\n",
    "#print(\"Total surplus increase is %f\"%((np.sum(surplus.values()) - total_surplus_daily)/total_surplus_daily))\n"
   ]
  },
  {
   "cell_type": "code",
   "execution_count": 171,
   "metadata": {
    "collapsed": false
   },
   "outputs": [
    {
     "data": {
      "text/plain": [
       "defaultdict(<function __main__.<lambda>>,\n",
       "            {0: 631198.18373,\n",
       "             1: 530741.691628,\n",
       "             2: 570121.4667499999,\n",
       "             3: 550282.507366,\n",
       "             4: 393904.6996099999,\n",
       "             5: 403891.698502,\n",
       "             6: 693032.701444,\n",
       "             7: 422961.37566200003,\n",
       "             8: 405616.968192,\n",
       "             9: 403814.66044199996,\n",
       "             10: 682459.3586159999,\n",
       "             11: 606183.7880039999,\n",
       "             12: 606023.67098})"
      ]
     },
     "execution_count": 171,
     "metadata": {},
     "output_type": "execute_result"
    }
   ],
   "source": [
    "#Calculate total distance per day\n",
    "total_dist = collections.defaultdict(lambda: 0)\n",
    "for route in routes:\n",
    "    total_dist[route['day']] += route['distance']\n",
    "total_fruit = collections.defaultdict(lambda: 0)\n",
    "for route in routes:\n",
    "    for farmer in route['route']:\n",
    "        if farmer in farmer_load_dict:\n",
    "            total_fruit[route['day']] += farmer_load_dict[farmer]\n",
    "total_dist"
   ]
  },
  {
   "cell_type": "code",
   "execution_count": 66,
   "metadata": {
    "collapsed": false
   },
   "outputs": [],
   "source": [
    "# Count number of days worked\n",
    "for r in routes:\n",
    "    days_worked[truck_to_cluster[r['truck']]]['spatial'] = 0\n",
    "for r in routes:\n",
    "    days_worked[truck_to_cluster[r['truck']]]['spatial'] += 1\n",
    "\n",
    "# Calculate efficiency\n",
    "distance_dict.update({\n",
    "    'spatial': total_dist\n",
    "})\n",
    "time_dict.update({\n",
    "    'spatial': total_time\n",
    "})\n",
    "\n",
    "# Count quantities\n",
    "for r in routes:\n",
    "    quantities_served[truck_to_cluster[r['truck']]]['spatial'] = 0\n",
    "\n",
    "for r in routes:\n",
    "    quantities_served[truck_to_cluster[r['truck']]]['spatial'] += r['load']\n",
    "\n",
    "# Calculate load of trucks\n",
    "for r in routes:\n",
    "    load_trucks[r['truck']]['spatial'] = []\n",
    "\n",
    "for r in routes:\n",
    "    load_trucks[r['truck']]['spatial'] = load_trucks[r['truck']]['spatial'] + [r['load']/truck_load_dict[r['truck']]]\n",
    "for k in load_trucks.keys():\n",
    "    load_trucks[k]['spatial'] = (np.mean(load_trucks[k]['spatial']),np.std(load_trucks[k]['spatial']))\n",
    "    "
   ]
  },
  {
   "cell_type": "code",
   "execution_count": 67,
   "metadata": {
    "collapsed": true
   },
   "outputs": [],
   "source": [
    "m_load_trucks = collections.defaultdict((lambda : collections.defaultdict(lambda : 0)))\n",
    "for k in load_trucks.keys():\n",
    "    m_load_trucks[k]['spatial'] = load_trucks[k]['spatial'][0]\n",
    "    m_load_trucks[k]['daily'] = load_trucks[k]['daily'][0]"
   ]
  },
  {
   "cell_type": "code",
   "execution_count": 68,
   "metadata": {
    "collapsed": false
   },
   "outputs": [],
   "source": [
    "# Calculate the village of each middleman\n",
    "from statistics import mode\n",
    "import collections\n",
    "\n",
    "dim_farmers_confirmed = pd.read_csv(data_folder + 'dim_farmers_confirmed.csv')\n",
    "most_common = {}\n",
    "for cluster_id, group in dim_farmers_confirmed.groupby('cluster_id'):\n",
    "    counter=collections.Counter(group['house_village_name'])\n",
    "    most_common[cluster_id] = counter.most_common(1)[0][0]\n",
    "\n",
    "farmer_to_village = {}\n",
    "dim_all_farmers = pd.read_csv(data_folder + 'dim_all_farmers.csv')\n",
    "for i,row in dim_all_farmers.iterrows():\n",
    "    farmer_to_village[row['farmer_id']+'-'+str(row['plot_number'])] = row['house_village_name']\n",
    "dim_farmers_sample = pd.read_csv(data_folder + 'dim_farmers_sample.csv')\n",
    "for i,row in dim_farmers_sample.iterrows():\n",
    "    farmer_to_village[row['farmer_id']+'-'+str(row['plot_number'])] = row['house_village_name']\n",
    "\n",
    "\n",
    "n_relations_village = 0\n",
    "for route in routes:\n",
    "    for farmer in route['route']:\n",
    "        if farmer in farmer_to_cluster:\n",
    "            old_cluster = farmer_to_cluster[farmer]\n",
    "            new_cluster = truck_to_cluster[route['truck']]\n",
    "            if new_cluster != old_cluster:\n",
    "                if most_common[new_cluster] != farmer_to_village[farmer]:\n",
    "                    n_relations_village += 1\n",
    "            "
   ]
  },
  {
   "cell_type": "code",
   "execution_count": 69,
   "metadata": {
    "collapsed": false
   },
   "outputs": [
    {
     "name": "stdout",
     "output_type": "stream",
     "text": [
      "Total Fruit 1289.599999999999\n",
      "Time eff  0.303814486715\n",
      "Dist eff  0.338217628868\n",
      "Days worked less  0.37010676156583633\n",
      "Average load trucks daily 0.6012201024284358\n",
      "Average load trucks spatial 0.8038028252611586\n",
      "A total of 0.807770 fruit changed\n",
      "A total of 0.819695 relations changed\n",
      "A total of 0.546463 village relations changed\n",
      "Total profit reduction: 0.104276\n"
     ]
    }
   ],
   "source": [
    "# Efficiency\n",
    "print(\"Total Fruit\", total_fruit)\n",
    "print(\"Time eff \", (time_dict['daily']-time_dict['spatial'])/time_dict['daily'])\n",
    "print(\"Dist eff \", (distance_dict['daily']-distance_dict['spatial'])/distance_dict['daily'])\n",
    "# Changed Relationships\n",
    "import pandas as pd\n",
    "print(\"Days worked less \",1-pd.DataFrame(days_worked).sum(axis=1)[1]/(pd.DataFrame(days_worked).sum(axis=1)[0]+0.0))\n",
    "print(\"Average load trucks daily\", np.nanmean([m_load_trucks[k]['daily'] for k in m_load_trucks]))\n",
    "print(\"Average load trucks spatial\", np.nanmean([m_load_trucks[k]['spatial'] for k in m_load_trucks]))\n",
    "\n",
    "print(\"A total of %f fruit changed\"%(n_fruit/(total_fruit + 0.0)))\n",
    "print(\"A total of %f relations changed\"%(n_relations/(all_relations + 0.0)))\n",
    "print(\"A total of %f village relations changed\"%(n_relations_village/(all_relations + 0.0)))\n",
    "\n",
    "\n",
    "profit = 247*total_fruit*1000\n",
    "costs_spatial = 7199.143394 * distance_dict['spatial']/1000\n",
    "costs_daily = 7199.143394 * distance_dict['daily']/1000\n",
    "print(\"Total profit reduction: %f\"%((profit - costs_spatial)/(profit - costs_daily)-1))\n",
    "print(\"Trucks used: \")"
   ]
  },
  {
   "cell_type": "code",
   "execution_count": 70,
   "metadata": {
    "collapsed": false
   },
   "outputs": [
    {
     "data": {
      "text/html": [
       "<div>\n",
       "<table border=\"1\" class=\"dataframe\">\n",
       "  <thead>\n",
       "    <tr style=\"text-align: right;\">\n",
       "      <th></th>\n",
       "      <th>0</th>\n",
       "      <th>1</th>\n",
       "      <th>2</th>\n",
       "      <th>3</th>\n",
       "      <th>4</th>\n",
       "      <th>5</th>\n",
       "      <th>6</th>\n",
       "      <th>7</th>\n",
       "    </tr>\n",
       "  </thead>\n",
       "  <tbody>\n",
       "    <tr>\n",
       "      <th>0</th>\n",
       "      <td>1289.6</td>\n",
       "      <td>0.303814</td>\n",
       "      <td>0.338218</td>\n",
       "      <td>0.370107</td>\n",
       "      <td>0.60122</td>\n",
       "      <td>0.803803</td>\n",
       "      <td>0.80777</td>\n",
       "      <td>0.104276</td>\n",
       "    </tr>\n",
       "  </tbody>\n",
       "</table>\n",
       "</div>"
      ],
      "text/plain": [
       "        0         1         2         3        4         5        6         7\n",
       "0  1289.6  0.303814  0.338218  0.370107  0.60122  0.803803  0.80777  0.104276"
      ]
     },
     "execution_count": 70,
     "metadata": {},
     "output_type": "execute_result"
    }
   ],
   "source": [
    "pd.DataFrame([total_fruit,\n",
    "              (time_dict['daily']-time_dict['spatial'])/time_dict['daily'],\n",
    "            \n",
    "            (distance_dict['daily']-distance_dict['spatial'])/distance_dict['daily'],\n",
    "1-pd.DataFrame(days_worked).sum(axis=1)[1]/(pd.DataFrame(days_worked).sum(axis=1)[0]+0.0),\n",
    "np.nanmean([m_load_trucks[k]['daily'] for k in m_load_trucks]),\n",
    "np.nanmean([m_load_trucks[k]['spatial'] for k in m_load_trucks]),\n",
    "(n_fruit/(total_fruit + 0.0)),\n",
    "((profit - costs_spatial)/(profit - costs_daily)-1)\n",
    "            \n",
    "       ] ).transpose()"
   ]
  },
  {
   "cell_type": "code",
   "execution_count": 71,
   "metadata": {
    "collapsed": false
   },
   "outputs": [
    {
     "data": {
      "text/plain": [
       "721"
      ]
     },
     "execution_count": 71,
     "metadata": {},
     "output_type": "execute_result"
    }
   ],
   "source": [
    "all_relations"
   ]
  },
  {
   "cell_type": "code",
   "execution_count": 74,
   "metadata": {
    "collapsed": false
   },
   "outputs": [
    {
     "data": {
      "text/plain": [
       "daily      281.0\n",
       "spatial    177.0\n",
       "dtype: float64"
      ]
     },
     "execution_count": 74,
     "metadata": {},
     "output_type": "execute_result"
    }
   ],
   "source": [
    "pd.DataFrame(days_worked).sum(axis=1)"
   ]
  },
  {
   "cell_type": "code",
   "execution_count": null,
   "metadata": {
    "collapsed": true
   },
   "outputs": [],
   "source": []
  }
 ],
 "metadata": {
  "anaconda-cloud": {},
  "kernelspec": {
   "display_name": "Python [conda root]",
   "language": "python",
   "name": "conda-root-py"
  },
  "language_info": {
   "codemirror_mode": {
    "name": "ipython",
    "version": 2
   },
   "file_extension": ".py",
   "mimetype": "text/x-python",
   "name": "python",
   "nbconvert_exporter": "python",
   "pygments_lexer": "ipython2",
   "version": "2.7.10"
  }
 },
 "nbformat": 4,
 "nbformat_minor": 1
}
