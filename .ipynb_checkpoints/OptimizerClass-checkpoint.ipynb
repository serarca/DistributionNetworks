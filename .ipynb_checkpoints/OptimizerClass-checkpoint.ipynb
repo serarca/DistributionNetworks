{
 "cells": [
  {
   "cell_type": "code",
   "execution_count": 339,
   "metadata": {
    "collapsed": false
   },
   "outputs": [],
   "source": [
    "import matplotlib.pyplot as plt\n",
    "import numpy as np\n",
    "from scipy.spatial import distance_matrix\n",
    "from scipy.spatial.distance import pdist\n",
    "import math\n",
    "import random\n",
    "from gurobipy import *\n",
    "import geopy.distance\n",
    "import pandas as pd\n",
    "from tsp import NearestNeighbourSolver \n",
    "from tsp import NearestInsertionSolver\n",
    "import copy\n",
    "from scipy.spatial import distance as distance_lib\n",
    "\n",
    "\n",
    "\n",
    "# This class holds a VRP problem\n",
    "class VRP:\n",
    "    def __init__(self, H, N, H_p, N_p, quantities, capacities, type_dist, M = False, M_p = False):\n",
    "        self.V = N+H\n",
    "        self.H = H\n",
    "        self.N = N\n",
    "        self.H_p = H_p\n",
    "        self.N_p = N_p\n",
    "        self.quantities = quantities\n",
    "        self.capacities = capacities\n",
    "        self.type_dist = type_dist\n",
    "        self.M_p = M_p\n",
    "        self.M = M\n",
    "        \n",
    "        # Find closest mill to each node\n",
    "        if M:\n",
    "            self.closest_mill = {}\n",
    "            for i in range(len(self.N)):\n",
    "                self.closest_mill[N[i]] = M[distance.cdist([N_p[i,:]], M_p).argmin()]\n",
    "        # Create distance matrices\n",
    "        if type_dist == 'geo':\n",
    "            self.geo_distance = self.geo_distance_matrix(pd.DataFrame(data = np.concatenate([N_p, H_p]), index = np.concatenate([N,H]), columns = ['lat','lon']))\n",
    "            self.distance = self.geo_distance\n",
    "        if type_dist == 'euclid':\n",
    "            self.euclid_distance = self.euclid_distance_matrix(pd.DataFrame(data = np.concatenate([N_p, H_p]), index = np.concatenate([N,H]), columns = ['lat','lon']))\n",
    "            self.distance = self.euclid_distance\n",
    "        self.positions = dict(zip(np.concatenate([N,H]),list(range(len(N+H)))))\n",
    "        # Create distance dictionary\n",
    "        distance_dict = {}\n",
    "        for v1 in self.V:\n",
    "            distance_dict[v1] = {}\n",
    "            for v2 in self.V:\n",
    "                distance_dict[v1][v2] = self.distance[self.positions[v1],self.positions[v2]]\n",
    "        self.distance_dict = distance_dict\n",
    "        \n",
    "            \n",
    "        \n",
    "    # Construct geographical distances matrix\n",
    "    def geo_distance_matrix(self,df,mills = False):\n",
    "        df = df.reset_index(drop=True).copy()\n",
    "        d = np.zeros([len(df),len(df)])\n",
    "        for i,row_i in df.iterrows():\n",
    "            for j,row_j in df.iterrows():\n",
    "                if i!=j:\n",
    "                    d[i,j] = geopy.distance.vincenty(df.iloc[i].values,df.iloc[j].values).m\n",
    "                    if (self.M):\n",
    "                        if (V[j] in H):\n",
    "                            d[i,j] = (geopy.distance.vincenty(df.iloc[i].values,get_entry(*str.split(self.closest_mill[V[j]],'_'))).m +\n",
    "                                      geopy.distance.vincenty(get_entry(*str.split(self.closest_mill[V[j]],'_')),df.iloc[j].values).m)\n",
    "        return d\n",
    "        \n",
    "    # Construct euclid distances matrix\n",
    "    def euclid_distance_matrix(self,df):\n",
    "        df = df.reset_index(drop=True).copy()\n",
    "        d = np.zeros([len(df),len(df)])\n",
    "        for i,row_i in df.iterrows():\n",
    "            for j,row_j in df.iterrows():\n",
    "                if i!=j:\n",
    "                    d[i,j] = np.sqrt(np.sum((df.iloc[i].values-df.iloc[j].values)**2))\n",
    "                    if (self.M):\n",
    "                        if (V[j] in H):\n",
    "                            d[i,j] = (np.sqrt(np.sum((df.iloc[i].values-get_entry(*str.split(self.closest_mill[V[j]],'_')))**2)) +\n",
    "                                      np.sqrt(np.sum((get_entry(*str.split(self.closest_mill[V[j]],'_'))-df.iloc[j].values)**2)))\n",
    "        return d\n",
    "    \n",
    "    def get_entry(self,a,v):\n",
    "        if a == 'h':\n",
    "            return self.H_p[int(v),:]\n",
    "        if a == 'm':\n",
    "            return self.M_p[int(v),:]\n",
    "        if a == 'n':\n",
    "            return self.N_p[int(v),:]\n",
    "        \n",
    "    # Calculate load violation\n",
    "    def calc_load(self, route):\n",
    "        return np.sum([self.quantities[n] for n in route]) \n",
    "\n",
    "    def total_load_violation(self, sol):\n",
    "        return np.sum([np.max([self.calc_load(sol[h]['route']) - self.capacities[h],0]) for h in H])\n",
    "\n",
    "    def distance_path(self,  path):\n",
    "        return np.sum([self.distance_dict[path[i]][path[i+1]] for i in range(len(path)-1)])\n",
    "\n",
    "    def total_distance(self, sol):\n",
    "        return np.sum([self.distance_path([h]+sol[h]['route']+[h]) for h in H])\n",
    "    \n",
    "    def LinearSolver(self, initialization = 0):\n",
    "        H = self.H\n",
    "        N = self.N\n",
    "        H_p = self.H_p\n",
    "        N_p = self.N_p\n",
    "        quantities = self.quantities\n",
    "        capacities = self.capacities\n",
    "        type_dist = self.type_dist\n",
    "        distance = self.distance\n",
    "        \n",
    "        def v_distance(v1, v2):\n",
    "            return self.distance[self.positions[v1],self.positions[v2]]\n",
    "\n",
    "        k = len(H)\n",
    "        Y = ['y_'+ v for v in N]\n",
    "\n",
    "        # Write model\n",
    "        model = Model()\n",
    "\n",
    "        #Create variables for the model\n",
    "        vars = {}\n",
    "        # First key is truck\n",
    "        for truck in range(k):\n",
    "            vars[truck] = {}\n",
    "            # Going from house to farmer\n",
    "            house = H[truck]\n",
    "            vars[truck][house] = {}\n",
    "            for farmer in N:\n",
    "                vars[truck][house][farmer] = model.addVar(obj=v_distance(house, farmer), vtype=GRB.BINARY,\n",
    "                                  name='t_'+str(truck)+','+house+','+farmer)\n",
    "            # Going from house to house\n",
    "            vars[truck][house][house] = model.addVar(obj=0, vtype=GRB.BINARY,\n",
    "                                  name='t_'+str(truck)+','+house+','+house)\n",
    "            # Going from farmer to farmer\n",
    "            for f1 in N:\n",
    "                vars[truck][f1] = {}\n",
    "                for f2 in N:\n",
    "                    if (f1!=f2):\n",
    "                        vars[truck][f1][f2] = model.addVar(obj=v_distance(f1, f2), vtype=GRB.BINARY,\n",
    "                                  name='t_'+str(truck)+','+f1+','+f2)\n",
    "\n",
    "            # Going from farmer to home\n",
    "            for f in N:\n",
    "                vars[truck][f][house] = model.addVar(obj=v_distance(f, house), vtype=GRB.BINARY,\n",
    "                                name='t_'+str(truck)+','+f+','+house)\n",
    "        model.update()\n",
    "\n",
    "        # We add restriction (1) so all farmers are visited\n",
    "        for farmer in N:\n",
    "            model.addConstr(quicksum(vars[truck][vertex][farmer] \\\n",
    "                                 for truck in range(k) for vertex in (list(set(N)-set([farmer])) + [H[truck]]))==1)\n",
    "\n",
    "        # Add restriction (2) so all nodes are visited once\n",
    "        for truck in range(k):\n",
    "            # This is for farmer nodes\n",
    "            for farmer in N:\n",
    "                s1 = quicksum(vars[truck][farmer][i] for i in vars[truck][farmer].keys())\n",
    "                house = H[truck]\n",
    "                s1 -= vars[truck][house][farmer]\n",
    "                for f2 in N:\n",
    "                    if farmer!=f2:\n",
    "                        s1 -= vars[truck][f2][farmer]\n",
    "                model.addConstr(s1 == 0)\n",
    "            # This is for houses\n",
    "            house = H[truck]\n",
    "            s1 = quicksum(vars[truck][house][i] for i in vars[truck][house].keys())\n",
    "            for farmer in N:\n",
    "                s1 -= vars[truck][farmer][house]\n",
    "            s1 -= vars[truck][house][house]\n",
    "            model.addConstr(s1 == 0)\n",
    "\n",
    "\n",
    "        # We add capacity constraints (3)\n",
    "        for truck in range(k):\n",
    "            s1 = 0\n",
    "            for farmer in N:\n",
    "                s1 += quantities[farmer]*quicksum(vars[truck][farmer][i] for i in vars[truck][farmer].keys())\n",
    "            model.addConstr(s1 <= capacities['_'.join(['h',str(truck)])])\n",
    "\n",
    "        # Trucks should leave their houses (4)\n",
    "        for truck in range(k):\n",
    "            house = H[truck]\n",
    "            model.addConstr(quicksum(vars[truck][house][i] for i in vars[truck][house].keys()) == 1)\n",
    "\n",
    "        # We finish with the cycle restrictions (5)\n",
    "        y_vars = {v:model.addVar(obj=0, vtype=GRB.CONTINUOUS,\n",
    "                                  name='y_'+v) for v in (N)} \n",
    "        model.update()\n",
    "\n",
    "        for i in y_vars.keys():\n",
    "            for j in y_vars.keys():\n",
    "                if i!=j:\n",
    "                    s1 = y_vars[i] - y_vars[j]\n",
    "                    for truck in range(k):\n",
    "                        if j in vars[truck][i].keys():\n",
    "                            s1 += len(y_vars) * vars[truck][i][j]\n",
    "                    model.addConstr(s1 <= len(y_vars) - 1)\n",
    "\n",
    "        model.update()\n",
    "\n",
    "        model.reset()\n",
    "        model._vars = model.getVars()\n",
    "        \n",
    "        if initialization:\n",
    "            # We create the list of variables that are positive\n",
    "            positive = []\n",
    "            for h in initialization.keys():\n",
    "                path = [h]+initialization[h]['route']+[h]\n",
    "                t = '_'.join(['t',h.split('_')[1]])\n",
    "                for i in range(len(path)-1):\n",
    "                    positive.append(','.join([t,path[i],path[(i+1)]]))\n",
    "            print(positive)\n",
    "            y_init = {}\n",
    "            i = 0\n",
    "            for h in initialization.keys():\n",
    "                path = initialization[h]['route']\n",
    "                for s in path:\n",
    "                    if s[0] == 'n':\n",
    "                        y_init['y_'+s] = i\n",
    "                        i = i+1\n",
    "                        \n",
    "            print(y_init)\n",
    "            \n",
    "            # Initialize variables\n",
    "            variables = model.getVars()\n",
    "            for j,v in enumerate(variables):\n",
    "                name = v.VarName\n",
    "                if name[0]=='t':\n",
    "                    if name in positive:\n",
    "                        model.getVars()[j].start = 1.0\n",
    "                    else:\n",
    "                        model.getVars()[j].start = 0.0\n",
    "                elif name[0]=='y':\n",
    "                    model.getVars()[j].start = y_init[name]\n",
    "\n",
    "\n",
    "        model.optimize()\n",
    "        self.model = model\n",
    "        solution = self.solution_from_solver(model)\n",
    "        \n",
    "        # Edit solution\n",
    "        for h in H:\n",
    "            l = solution[h]['route']\n",
    "            solution[h]['load'] = np.sum([quantities[n] for n in l])\n",
    "            solution[h]['max_load'] = capacities[h]\n",
    "        \n",
    "        return solution\n",
    "    \n",
    "    # Takes a linear model, returns the solution of that model\n",
    "    def solution_from_solver(self, model):\n",
    "        # Reconstruct the solution\n",
    "        solution_dict = {}\n",
    "        for v in model.getVars():\n",
    "            name = v.VarName\n",
    "            value = v.x\n",
    "            if value == 1.0 and name[0] == 't':\n",
    "                parts = name.split(',')\n",
    "                truck = parts[0]\n",
    "                node_0 = parts[1]\n",
    "                node_1 = parts[2]\n",
    "                if not truck in solution_dict.keys():\n",
    "                    solution_dict[truck] = {}\n",
    "                solution_dict[truck][node_0] = node_1\n",
    "        sol_from_model = {}\n",
    "        for t in solution_dict.keys():\n",
    "            h = '_'.join(['h',t.split('_')[1]])\n",
    "            sequence = []\n",
    "            k = h\n",
    "            while True:\n",
    "                k = solution_dict[t][k]\n",
    "                if k==h:\n",
    "                    break\n",
    "                sequence.append(k)\n",
    "            sol_from_model[h] = {'route':sequence}\n",
    "        return sol_from_model\n",
    "    \n",
    "    def draw_solution(self, solution):\n",
    "        # Draw the solution of the heuristic\n",
    "        H = self.H\n",
    "        N = self.N\n",
    "        H_p = self.H_p\n",
    "        N_p = self.N_p\n",
    "        quantities = self.quantities\n",
    "        capacities = self.capacities\n",
    "        type_dist = self.type_dist\n",
    "        plt.scatter(N_p[:,0], N_p[:,1], c='r', s = np.array(quantities_v)*3)\n",
    "        plt.scatter(H_p[:,0], H_p[:,1], c='r', marker = 's', s = 100)\n",
    "        for truck in solution.keys():\n",
    "            sol = solution[truck]\n",
    "            route = sol['route']\n",
    "            if len(route) > 0:\n",
    "                for i in range(len(route) - 1):\n",
    "                    coord1 = self.get_entry(*str.split(route[i],'_'))\n",
    "                    coord2 = self.get_entry(*str.split(route[i+1],'_'))\n",
    "                    plt.plot([coord1[0], coord2[0]], [coord1[1], coord2[1]], color='r', linestyle='-', linewidth=1)\n",
    "                coord1 = self.get_entry(*str.split(truck,'_'))\n",
    "                coord2 = self.get_entry(*str.split(route[0],'_'))\n",
    "                plt.plot([coord1[0], coord2[0]], [coord1[1], coord2[1]], color='r', linestyle='-', linewidth=1)\n",
    "                coord1 = self.get_entry(*str.split(route[len(route) - 1],'_'))\n",
    "                coord2 = self.get_entry(*str.split(truck,'_'))\n",
    "                plt.plot([coord1[0], coord2[0]], [coord1[1], coord2[1]], color='r', linestyle='-', linewidth=1)\n",
    "        plt.show()\n",
    "        \n",
    "    def random_start(self):\n",
    "        \n",
    "        H = self.H\n",
    "        N = self.N\n",
    "        H_p = self.H_p\n",
    "        N_p = self.N_p\n",
    "        quantities = self.quantities\n",
    "        capacities = self.capacities\n",
    "        distance = self.distance\n",
    "        distance_dict = self.distance_dict\n",
    "        \n",
    "        assignment_dict = {h:{'route':[],'cap':0} for h in H}\n",
    "        for n in N:\n",
    "            dist_to_trucks = [np.random.rand() for h in H]\n",
    "            ranking = np.argsort(dist_to_trucks)\n",
    "            q = quantities[n]\n",
    "            assign = False\n",
    "            for r in ranking:\n",
    "                truck = H[r]\n",
    "                truck_capacity = capacities[truck]\n",
    "                current_load = assignment_dict[truck]['cap']\n",
    "                if current_load + q <= truck_capacity:\n",
    "                    l = assignment_dict[truck]['route']\n",
    "                    l.append(n)\n",
    "                    assignment_dict[truck]['cap'] = current_load + q\n",
    "                    assignment_dict[truck]['route'] = l\n",
    "                    assign = True\n",
    "                    break\n",
    "            if assign == False:\n",
    "                print(\"Problem infeasible\")\n",
    "                \n",
    "        # Edit solution\n",
    "        for h in H:\n",
    "            l = assignment_dict[h]['route']\n",
    "            assignment_dict[h]['load'] = np.sum([quantities[n] for n in l])\n",
    "            assignment_dict[h]['max_load'] = capacities[h]\n",
    "    \n",
    "        return assignment_dict\n",
    "            \n",
    "    def start_heuristic(self):\n",
    "        H = self.H\n",
    "        N = self.N\n",
    "        H_p = self.H_p\n",
    "        N_p = self.N_p\n",
    "        quantities = self.quantities\n",
    "        capacities = self.capacities\n",
    "        distance = self.distance\n",
    "        distance_dict = self.distance_dict\n",
    "        \n",
    "        assignment_dict = {h:{'nodes':[],'cap':0} for h in H}\n",
    "        for n in N:\n",
    "            dist_to_trucks = [distance_dict[n][h] for h in H]\n",
    "            ranking = np.argsort(dist_to_trucks)\n",
    "            q = quantities[n]\n",
    "            assign = False\n",
    "            for r in ranking:\n",
    "                truck = H[r]\n",
    "                truck_capacity = capacities[truck]\n",
    "                current_load = assignment_dict[truck]['cap']\n",
    "                if current_load + q <= truck_capacity:\n",
    "                    l = assignment_dict[truck]['nodes']\n",
    "                    l.append(n)\n",
    "                    assignment_dict[truck]['cap'] = current_load + q\n",
    "                    assignment_dict[truck]['nodes'] = l\n",
    "                    assign = True\n",
    "                    break\n",
    "            if assign == False:\n",
    "                print(\"Problem infeasible\")\n",
    "        assignment_nodes = {n:h  for h in assignment_dict.keys() for n in assignment_dict[h]['nodes']}\n",
    "        \n",
    "        # Create the routes of the heuristic\n",
    "        iterations = 100\n",
    "        solution_tsp = {}\n",
    "        for h in H:\n",
    "            if len(assignment_dict[h]['nodes'])>0:\n",
    "                nodes = set(assignment_dict[h]['nodes'] + [h])\n",
    "                best_dist = float('inf')\n",
    "                best_route = list(nodes)\n",
    "                for i in range(iterations):\n",
    "                    nn_solver = NearestNeighbourSolver(nodes, distance_dict)\n",
    "                    new_route = nn_solver.run()\n",
    "                    new_dist = nn_solver.get_total_distance()\n",
    "                    if new_dist < best_dist:\n",
    "                        best_dist = new_dist\n",
    "                        best_route = new_route\n",
    "                    ni_solver = NearestInsertionSolver(nodes, distance_dict)\n",
    "                    new_route = ni_solver.run()\n",
    "                    new_dist = ni_solver.get_total_distance()\n",
    "                    if new_dist < best_dist:\n",
    "                        best_dist = new_dist\n",
    "                        best_route = new_route\n",
    "                solution_tsp[h] = {'route':best_route}\n",
    "            else:\n",
    "                solution_tsp[h] = {'route':[]}\n",
    "\n",
    "        # Edit solution\n",
    "        for h in H:\n",
    "            l = solution_tsp[h]['route']\n",
    "            if len(solution_tsp[h]['route'])>0:\n",
    "                l.pop()\n",
    "                ind = l.index(h)\n",
    "                l = l[ind+1:len(l)]+l[0:ind]\n",
    "                solution_tsp[h]['route'] = l\n",
    "            solution_tsp[h]['load'] = np.sum([quantities[n] for n in l])\n",
    "            solution_tsp[h]['max_load'] = capacities[h]\n",
    "        return solution_tsp\n",
    "\n",
    "    def heuristic(self, solution_tsp):\n",
    "\n",
    "        H = self.H\n",
    "        N = self.N\n",
    "        H_p = self.H_p\n",
    "        N_p = self.N_p\n",
    "        quantities = self.quantities\n",
    "        capacities = self.capacities\n",
    "        type_dist = self.type_dist\n",
    "        distance = self.distance\n",
    "        distance_dict = self.distance_dict\n",
    "        \n",
    "        attributes = {}\n",
    "        for truck in H:\n",
    "            for node in N:\n",
    "                attributes[(truck,node)] = {'tabu':0,'rho':0}\n",
    "        \n",
    "        def rho(sol):\n",
    "            return np.sum([ attributes[(h,n)]['rho'] for h in H for n in sol[h]['route']])\n",
    "                \n",
    "        alpha = 0.015\n",
    "        lamb = 1\n",
    "        theta = int(7.5*np.log10(len(N)))\n",
    "        delta = 0.5\n",
    "        # Calculate current cost\n",
    "        dist = self.total_distance(solution_tsp)\n",
    "        load = self.total_load_violation(solution_tsp)\n",
    "        f = dist + alpha*load\n",
    "        rho_sum = rho(solution_tsp)\n",
    "        \n",
    "        best_dist = dist\n",
    "        best_sol = copy.deepcopy(solution_tsp)\n",
    "        for it in range(1000):\n",
    "            partial_data = {\n",
    "                'cost' : float('inf'),\n",
    "                'truck' : -1,\n",
    "                'new_truck' : -1,\n",
    "                'index' : -1,\n",
    "                'new_index' : -1,\n",
    "                'node' : -1\n",
    "            }\n",
    "\n",
    "            # Find two attributes to change\n",
    "            for truck in H:\n",
    "                for node in solution_tsp[truck]['route']:\n",
    "                    complete_route = [truck]+solution_tsp[truck]['route']+[truck]\n",
    "                    ind_node = complete_route.index(node)\n",
    "\n",
    "                    dec_dist = (distance_dict[complete_route[ind_node-1]][complete_route[ind_node+1]]\n",
    "                                - distance_dict[complete_route[ind_node-1]][complete_route[ind_node]]\n",
    "                                - distance_dict[complete_route[ind_node+1]][complete_route[ind_node]])\n",
    "                    overload = np.max([solution_tsp[truck]['load'] - solution_tsp[truck]['max_load'],0])\n",
    "                    dec_overload = - np.min([overload, quantities[node]])\n",
    "\n",
    "                    for new_truck in H:\n",
    "                        if truck != new_truck:\n",
    "                            overload = np.max([solution_tsp[new_truck]['load'] - solution_tsp[new_truck]['max_load'],0])\n",
    "                            new_overload = np.max([solution_tsp[new_truck]['load'] + quantities[node] - solution_tsp[new_truck]['max_load'],0])\n",
    "                            inc_overload_truck = new_overload - overload\n",
    "                            change_overload = inc_overload_truck + dec_overload\n",
    "                            new_complete_route = [new_truck]+solution_tsp[new_truck]['route']+[new_truck]\n",
    "                            for i in range(len(new_complete_route)-1):\n",
    "                                inc = (distance_dict[new_complete_route[i]][node] \n",
    "                                       + distance_dict[new_complete_route[i+1]][node]\n",
    "                                       -distance_dict[new_complete_route[i]][new_complete_route[i+1]])\n",
    "                                change_dist = inc + dec_dist\n",
    "\n",
    "                                # Calculate the new cost\n",
    "                                new_distance = (dist + change_dist)\n",
    "                                new_load = (load + change_overload)\n",
    "                                new_f = new_distance + alpha*new_load\n",
    "                                new_rho = rho_sum - attributes[(truck,node)]['rho'] + attributes[(new_truck,node)]['rho']\n",
    "                                new_penalty = lamb*new_distance*np.sqrt(len(N)*len(H))*new_rho\n",
    "                                cost = new_f+new_penalty\n",
    "\n",
    "                                if (cost < partial_data['cost']) and (attributes[(new_truck,node)]['tabu']==0 or new_f<f) :\n",
    "                                    partial_data = {\n",
    "                                        'cost' : cost,\n",
    "                                        'truck' : truck,\n",
    "                                        'new_truck' : new_truck,\n",
    "                                        'index' : ind_node,\n",
    "                                        'new_index' : i,\n",
    "                                        'node' : node,\n",
    "                                        'dist_gain' : change_dist,\n",
    "                                        'load_gain' : change_overload\n",
    "                                    }\n",
    "\n",
    "            # Do the update of the solution\n",
    "            old_path = solution_tsp[partial_data['truck']]['route']\n",
    "            old_path.pop(partial_data['index'] - 1)\n",
    "            solution_tsp[partial_data['truck']]['route'] = old_path\n",
    "            new_path = solution_tsp[partial_data['new_truck']]['route']\n",
    "            new_path.insert(partial_data['new_index'],partial_data['node'])\n",
    "            solution_tsp[partial_data['new_truck']]['route'] = new_path\n",
    "\n",
    "            # Update loads\n",
    "            solution_tsp[partial_data['new_truck']]['load'] += quantities[partial_data['node']]\n",
    "            solution_tsp[partial_data['truck']]['load'] -= quantities[partial_data['node']]\n",
    "\n",
    "            # Update attributes\n",
    "            attributes[(partial_data['new_truck'],partial_data['node'])]['rho'] += 1\n",
    "            for a in attributes.keys():\n",
    "                attributes[a]['tabu'] = np.max([attributes[a]['tabu']-1,0])\n",
    "            attributes[(partial_data['truck'],partial_data['node'])]['tabu'] = theta\n",
    "            # Also update global vars\n",
    "            dist = self.total_distance(solution_tsp)\n",
    "            load = self.total_load_violation(solution_tsp)\n",
    "            rho_sum = rho(solution_tsp)\n",
    "            f = dist + alpha*load\n",
    "\n",
    "            if load>0:\n",
    "                alpha = alpha * (1+delta)\n",
    "            else:\n",
    "                alpha = alpha / (1+delta)\n",
    "                if dist<best_dist:\n",
    "                    best_dist = dist\n",
    "                    best_sol = copy.deepcopy(solution_tsp)\n",
    "                    print(it, best_dist)\n",
    "        return best_sol"
   ]
  },
  {
   "cell_type": "code",
   "execution_count": 340,
   "metadata": {
    "collapsed": false
   },
   "outputs": [
    {
     "data": {
      "image/png": "[encoded data removed]",
      "text/plain": [
       "<matplotlib.figure.Figure at 0x115ddcdd0>"
      ]
     },
     "metadata": {},
     "output_type": "display_data"
    }
   ],
   "source": [
    "k = 2\n",
    "n = 8\n",
    "m = 1\n",
    "\n",
    "H = ['h_'+str(i) for i in range(k)]\n",
    "N = ['n_'+str(i) for i in range(n)]\n",
    "M = ['n_'+str(i) for i in range(m)]\n",
    "\n",
    "H_p = np.random.rand(k,2)\n",
    "N_p = np.random.rand(n,2)\n",
    "M_p = np.random.rand(m,2)\n",
    "\n",
    "quantities = {f: 1 for f in N}\n",
    "capacities = {i:5 for i in H}\n",
    "\n",
    "import matplotlib.pyplot as plt\n",
    "# Draw points\n",
    "# Mills are in yellow circles\n",
    "# Houses of trucks are squares\n",
    "# Dots are farmers\n",
    "colors = ['r', 'b', 'c', 'm']\n",
    "\n",
    "plt.scatter(N_p[:,0], N_p[:,1], c='k', s = quantities_v)\n",
    "plt.scatter(H_p[:,0], H_p[:,1], c= colors[0:k], marker = 's', s = 100)\n",
    "plt.scatter(M_p[:,0], M_p[:,1], c='y', marker = 'o', s = 200)\n",
    "\n",
    "plt.show()"
   ]
  },
  {
   "cell_type": "code",
   "execution_count": 342,
   "metadata": {
    "collapsed": false
   },
   "outputs": [
    {
     "ename": "ValueError",
     "evalue": "XA must be a 2-dimensional array.",
     "output_type": "error",
     "traceback": [
      "\u001b[0;31m---------------------------------------------------------------------------\u001b[0m",
      "\u001b[0;31mValueError\u001b[0m                                Traceback (most recent call last)",
      "\u001b[0;32m<ipython-input-342-ae53a451998c>\u001b[0m in \u001b[0;36m<module>\u001b[0;34m()\u001b[0m\n\u001b[0;32m----> 1\u001b[0;31m \u001b[0mVRP_inst\u001b[0m \u001b[0;34m=\u001b[0m \u001b[0mVRP\u001b[0m\u001b[0;34m(\u001b[0m\u001b[0mH\u001b[0m\u001b[0;34m,\u001b[0m \u001b[0mN\u001b[0m\u001b[0;34m,\u001b[0m \u001b[0mH_p\u001b[0m\u001b[0;34m,\u001b[0m \u001b[0mN_p\u001b[0m\u001b[0;34m,\u001b[0m \u001b[0mquantities\u001b[0m\u001b[0;34m,\u001b[0m \u001b[0mcapacities\u001b[0m\u001b[0;34m,\u001b[0m \u001b[0;34m'euclid'\u001b[0m\u001b[0;34m,\u001b[0m \u001b[0mM\u001b[0m\u001b[0;34m,\u001b[0m \u001b[0mM_p\u001b[0m\u001b[0;34m)\u001b[0m\u001b[0;34m\u001b[0m\u001b[0m\n\u001b[0m",
      "\u001b[0;32m<ipython-input-339-dc3a7f57295c>\u001b[0m in \u001b[0;36m__init__\u001b[0;34m(self, H, N, H_p, N_p, quantities, capacities, type_dist, M, M_p)\u001b[0m\n\u001b[1;32m     33\u001b[0m             \u001b[0mself\u001b[0m\u001b[0;34m.\u001b[0m\u001b[0mclosest_mill\u001b[0m \u001b[0;34m=\u001b[0m \u001b[0;34m{\u001b[0m\u001b[0;34m}\u001b[0m\u001b[0;34m\u001b[0m\u001b[0m\n\u001b[1;32m     34\u001b[0m             \u001b[0;32mfor\u001b[0m \u001b[0mi\u001b[0m \u001b[0;32min\u001b[0m \u001b[0mrange\u001b[0m\u001b[0;34m(\u001b[0m\u001b[0mlen\u001b[0m\u001b[0;34m(\u001b[0m\u001b[0mself\u001b[0m\u001b[0;34m.\u001b[0m\u001b[0mN\u001b[0m\u001b[0;34m)\u001b[0m\u001b[0;34m)\u001b[0m\u001b[0;34m:\u001b[0m\u001b[0;34m\u001b[0m\u001b[0m\n\u001b[0;32m---> 35\u001b[0;31m                 \u001b[0mself\u001b[0m\u001b[0;34m.\u001b[0m\u001b[0mclosest_mill\u001b[0m\u001b[0;34m[\u001b[0m\u001b[0mN\u001b[0m\u001b[0;34m[\u001b[0m\u001b[0mi\u001b[0m\u001b[0;34m]\u001b[0m\u001b[0;34m]\u001b[0m \u001b[0;34m=\u001b[0m \u001b[0mM\u001b[0m\u001b[0;34m[\u001b[0m\u001b[0mdistance\u001b[0m\u001b[0;34m.\u001b[0m\u001b[0mcdist\u001b[0m\u001b[0;34m(\u001b[0m\u001b[0mN_p\u001b[0m\u001b[0;34m[\u001b[0m\u001b[0mi\u001b[0m\u001b[0;34m,\u001b[0m\u001b[0;34m:\u001b[0m\u001b[0;34m]\u001b[0m\u001b[0;34m,\u001b[0m \u001b[0mM_p\u001b[0m\u001b[0;34m)\u001b[0m\u001b[0;34m.\u001b[0m\u001b[0margmin\u001b[0m\u001b[0;34m(\u001b[0m\u001b[0;34m)\u001b[0m\u001b[0;34m]\u001b[0m\u001b[0;34m\u001b[0m\u001b[0m\n\u001b[0m\u001b[1;32m     36\u001b[0m         \u001b[0;31m# Create distance matrices\u001b[0m\u001b[0;34m\u001b[0m\u001b[0;34m\u001b[0m\u001b[0m\n\u001b[1;32m     37\u001b[0m         \u001b[0;32mif\u001b[0m \u001b[0mtype_dist\u001b[0m \u001b[0;34m==\u001b[0m \u001b[0;34m'geo'\u001b[0m\u001b[0;34m:\u001b[0m\u001b[0;34m\u001b[0m\u001b[0m\n",
      "\u001b[0;32m/Users/sergiocamelo/anaconda/lib/python2.7/site-packages/scipy/spatial/distance.pyc\u001b[0m in \u001b[0;36mcdist\u001b[0;34m(XA, XB, metric, p, V, VI, w)\u001b[0m\n\u001b[1;32m   2025\u001b[0m \u001b[0;34m\u001b[0m\u001b[0m\n\u001b[1;32m   2026\u001b[0m     \u001b[0;32mif\u001b[0m \u001b[0mlen\u001b[0m\u001b[0;34m(\u001b[0m\u001b[0ms\u001b[0m\u001b[0;34m)\u001b[0m \u001b[0;34m!=\u001b[0m \u001b[0;36m2\u001b[0m\u001b[0;34m:\u001b[0m\u001b[0;34m\u001b[0m\u001b[0m\n\u001b[0;32m-> 2027\u001b[0;31m         \u001b[0;32mraise\u001b[0m \u001b[0mValueError\u001b[0m\u001b[0;34m(\u001b[0m\u001b[0;34m'XA must be a 2-dimensional array.'\u001b[0m\u001b[0;34m)\u001b[0m\u001b[0;34m\u001b[0m\u001b[0m\n\u001b[0m\u001b[1;32m   2028\u001b[0m     \u001b[0;32mif\u001b[0m \u001b[0mlen\u001b[0m\u001b[0;34m(\u001b[0m\u001b[0msB\u001b[0m\u001b[0;34m)\u001b[0m \u001b[0;34m!=\u001b[0m \u001b[0;36m2\u001b[0m\u001b[0;34m:\u001b[0m\u001b[0;34m\u001b[0m\u001b[0m\n\u001b[1;32m   2029\u001b[0m         \u001b[0;32mraise\u001b[0m \u001b[0mValueError\u001b[0m\u001b[0;34m(\u001b[0m\u001b[0;34m'XB must be a 2-dimensional array.'\u001b[0m\u001b[0;34m)\u001b[0m\u001b[0;34m\u001b[0m\u001b[0m\n",
      "\u001b[0;31mValueError\u001b[0m: XA must be a 2-dimensional array."
     ]
    }
   ],
   "source": [
    "VRP_inst = VRP(H, N, H_p, N_p, quantities, capacities, 'euclid', M, M_p)"
   ]
  },
  {
   "cell_type": "code",
   "execution_count": 353,
   "metadata": {
    "collapsed": false
   },
   "outputs": [
    {
     "data": {
      "text/plain": [
       "array([[ 945.11517703,  808.40478663,  576.52618597, ...,  920.46480213,\n",
       "         968.34463814, 1296.35785898]])"
      ]
     },
     "execution_count": 353,
     "metadata": {},
     "output_type": "execute_result"
    }
   ],
   "source": [
    "distance_lib.cdist([N_p[0,:]], np.random.randint(1000, size=(50000, 2)))"
   ]
  },
  {
   "cell_type": "code",
   "execution_count": 323,
   "metadata": {
    "collapsed": false
   },
   "outputs": [
    {
     "name": "stdout",
     "output_type": "stream",
     "text": [
      "Optimize a model with 86 rows, 154 columns and 786 nonzeros\n",
      "Coefficient statistics:\n",
      "  Matrix range    [1e+00, 8e+00]\n",
      "  Objective range [8e-02, 9e-01]\n",
      "  Bounds range    [1e+00, 1e+00]\n",
      "  RHS range       [1e+00, 7e+00]\n",
      "Found heuristic solution: objective 4.42302\n",
      "Presolve removed 0 rows and 2 columns\n",
      "Presolve time: 0.00s\n",
      "Presolved: 86 rows, 152 columns, 784 nonzeros\n",
      "Variable types: 8 continuous, 144 integer (144 binary)\n",
      "\n",
      "Root relaxation: objective 1.330792e+00, 36 iterations, 0.00 seconds\n",
      "\n",
      "    Nodes    |    Current Node    |     Objective Bounds      |     Work\n",
      " Expl Unexpl |  Obj  Depth IntInf | Incumbent    BestBd   Gap | It/Node Time\n",
      "\n",
      "     0     0    1.33079    0   20    4.42302    1.33079  69.9%     -    0s\n",
      "H    0     0                       3.1725881    1.33079  58.1%     -    0s\n",
      "     0     0    1.67402    0   19    3.17259    1.67402  47.2%     -    0s\n",
      "H    0     0                       3.0295237    1.67402  44.7%     -    0s\n",
      "     0     0    1.72432    0   19    3.02952    1.72432  43.1%     -    0s\n",
      "     0     0    1.76367    0   19    3.02952    1.76367  41.8%     -    0s\n",
      "H    0     0                       2.6529818    1.76367  33.5%     -    0s\n",
      "     0     0    1.76367    0   16    2.65298    1.76367  33.5%     -    0s\n",
      "     0     0    1.76367    0   16    2.65298    1.76367  33.5%     -    0s\n",
      "     0     0    1.76367    0   19    2.65298    1.76367  33.5%     -    0s\n",
      "     0     0    1.76367    0   16    2.65298    1.76367  33.5%     -    0s\n",
      "H    0     2                       2.6102563    1.76367  32.4%     -    0s\n",
      "     0     2    1.76367    0   16    2.61026    1.76367  32.4%     -    0s\n",
      "H  933   406                       2.3984686    1.80827  24.6%   6.5    0s\n",
      "*  978   446              22       2.3937729    1.81445  24.2%   6.4    0s\n",
      "\n",
      "Cutting planes:\n",
      "  Learned: 6\n",
      "  Gomory: 12\n",
      "  MIR: 10\n",
      "  Flow cover: 14\n",
      "  Zero half: 13\n",
      "\n",
      "Explored 5863 nodes (42407 simplex iterations) in 1.21 seconds\n",
      "Thread count was 4 (of 4 available processors)\n",
      "\n",
      "Optimal solution found (tolerance 1.00e-04)\n",
      "Best objective 2.393772929630e+00, best bound 2.393772929630e+00, gap 0.0%\n"
     ]
    }
   ],
   "source": [
    "model = VRP_inst.LinearSolver()"
   ]
  },
  {
   "cell_type": "code",
   "execution_count": 325,
   "metadata": {
    "collapsed": false
   },
   "outputs": [
    {
     "data": {
      "image/png": "[encoded data removed]",
      "text/plain": [
       "<matplotlib.figure.Figure at 0x115cd0090>"
      ]
     },
     "metadata": {},
     "output_type": "display_data"
    }
   ],
   "source": [
    "VRP_inst.draw_solution(model)"
   ]
  },
  {
   "cell_type": "code",
   "execution_count": 326,
   "metadata": {
    "collapsed": false
   },
   "outputs": [
    {
     "data": {
      "image/png": "[encoded data removed]",
      "text/plain": [
       "<matplotlib.figure.Figure at 0x101924150>"
      ]
     },
     "metadata": {},
     "output_type": "display_data"
    }
   ],
   "source": [
    "VRP_inst.draw_solution(VRP_inst.start_heuristic())"
   ]
  },
  {
   "cell_type": "code",
   "execution_count": 327,
   "metadata": {
    "collapsed": false
   },
   "outputs": [
    {
     "name": "stdout",
     "output_type": "stream",
     "text": [
      "(5, 2.828860655855781)\n",
      "(9, 2.3937729296302965)\n"
     ]
    },
    {
     "data": {
      "text/plain": [
       "{'h_0': {'load': 3, 'max_load': 5, 'route': ['n_1', 'n_6', 'n_3']},\n",
       " 'h_1': {'load': 5,\n",
       "  'max_load': 5,\n",
       "  'route': ['n_5', 'n_7', 'n_2', 'n_0', 'n_4']}}"
      ]
     },
     "execution_count": 327,
     "metadata": {},
     "output_type": "execute_result"
    }
   ],
   "source": [
    "VRP_inst.heuristic(VRP_inst.start_heuristic())"
   ]
  },
  {
   "cell_type": "code",
   "execution_count": 328,
   "metadata": {
    "collapsed": false
   },
   "outputs": [
    {
     "name": "stdout",
     "output_type": "stream",
     "text": [
      "(0, 3.421164010368295)\n",
      "(1, 2.9166962130020835)\n",
      "(11, 2.3937729296302965)\n"
     ]
    },
    {
     "data": {
      "text/plain": [
       "{'h_0': {'cap': 5, 'load': 3, 'max_load': 5, 'route': ['n_1', 'n_6', 'n_3']},\n",
       " 'h_1': {'cap': 3,\n",
       "  'load': 5,\n",
       "  'max_load': 5,\n",
       "  'route': ['n_4', 'n_0', 'n_2', 'n_7', 'n_5']}}"
      ]
     },
     "execution_count": 328,
     "metadata": {},
     "output_type": "execute_result"
    }
   ],
   "source": [
    "VRP_inst.heuristic(VRP_inst.random_start())"
   ]
  },
  {
   "cell_type": "code",
   "execution_count": 329,
   "metadata": {
    "collapsed": false
   },
   "outputs": [
    {
     "data": {
      "text/plain": [
       "{'h_0': {'load': 3, 'max_load': 5, 'route': ['n_3', 'n_6', 'n_1']},\n",
       " 'h_1': {'load': 5,\n",
       "  'max_load': 5,\n",
       "  'route': ['n_4', 'n_0', 'n_2', 'n_7', 'n_5']}}"
      ]
     },
     "execution_count": 329,
     "metadata": {},
     "output_type": "execute_result"
    }
   ],
   "source": [
    "model"
   ]
  },
  {
   "cell_type": "code",
   "execution_count": 330,
   "metadata": {
    "collapsed": false
   },
   "outputs": [
    {
     "data": {
      "text/plain": [
       "array([0, 0])"
      ]
     },
     "execution_count": 330,
     "metadata": {},
     "output_type": "execute_result"
    }
   ],
   "source": [
    "from numpy import random\n",
    "from scipy.spatial import distance\n",
    "\n",
    "def closest_node(node, nodes):\n",
    "    closest_index = distance.cdist([node], nodes).argmin()\n",
    "    return nodes[closest_index]\n",
    "\n",
    "a = random.randint(1000, size=(50000, 2))\n",
    "\n",
    "some_pt = (1, 2)\n",
    "\n",
    "closest_node(some_pt, a)"
   ]
  },
  {
   "cell_type": "code",
   "execution_count": 352,
   "metadata": {
    "collapsed": false
   },
   "outputs": [
    {
     "data": {
      "text/plain": [
       "3.1622776601683795"
      ]
     },
     "execution_count": 352,
     "metadata": {},
     "output_type": "execute_result"
    }
   ],
   "source": [
    "distance.cdist([(1, 2)], np.random.randint(1000, size=(50000, 2))).min()"
   ]
  },
  {
   "cell_type": "code",
   "execution_count": null,
   "metadata": {
    "collapsed": true
   },
   "outputs": [],
   "source": []
  },
  {
   "cell_type": "code",
   "execution_count": 335,
   "metadata": {
    "collapsed": false
   },
   "outputs": [
    {
     "data": {
      "text/plain": [
       "array([[647, 153],\n",
       "       [102, 325],\n",
       "       [848, 289],\n",
       "       ...,\n",
       "       [939, 797],\n",
       "       [362, 726],\n",
       "       [ 30, 819]])"
      ]
     },
     "execution_count": 335,
     "metadata": {},
     "output_type": "execute_result"
    }
   ],
   "source": [
    "random.randint(1000, size=(50000, 2))"
   ]
  },
  {
   "cell_type": "code",
   "execution_count": null,
   "metadata": {
    "collapsed": true
   },
   "outputs": [],
   "source": []
  }
 ],
 "metadata": {
  "kernelspec": {
   "display_name": "Python [default]",
   "language": "python",
   "name": "python2"
  },
  "language_info": {
   "codemirror_mode": {
    "name": "ipython",
    "version": 2
   },
   "file_extension": ".py",
   "mimetype": "text/x-python",
   "name": "python",
   "nbconvert_exporter": "python",
   "pygments_lexer": "ipython2",
   "version": "2.7.12"
  }
 },
 "nbformat": 4,
 "nbformat_minor": 1
}
