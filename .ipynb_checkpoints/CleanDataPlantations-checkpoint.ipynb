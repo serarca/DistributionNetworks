{
 "cells": [
  {
   "cell_type": "code",
   "execution_count": 82,
   "metadata": {
    "collapsed": false
   },
   "outputs": [],
   "source": [
    "# This script makes sure to clean the data, so all filtering decisions are done here\n",
    "%matplotlib inline\n",
    "import datetime\n",
    "from dateutil import parser\n",
    "import math\n",
    "from dateutil.parser import parse\n",
    "\n",
    "\n",
    "from geopandas import GeoDataFrame\n",
    "import pandas as pd\n",
    "import numpy as np\n",
    "from shapely.geometry import Point"
   ]
  },
  {
   "cell_type": "code",
   "execution_count": 83,
   "metadata": {
    "collapsed": false
   },
   "outputs": [
    {
     "data": {
      "text/plain": [
       "['id',\n",
       " 'lat',\n",
       " 'lon',\n",
       " 'frequency_high',\n",
       " 'frequency_low',\n",
       " 'plot',\n",
       " 'age_tree',\n",
       " 'high',\n",
       " 'low',\n",
       " 'area']"
      ]
     },
     "execution_count": 83,
     "metadata": {},
     "output_type": "execute_result"
    }
   ],
   "source": [
    "# Read plantation data\n",
    "plantation_df = pd.read_csv('/Users/sergiocamelo/Dropbox/Sergio-Joann/20180412_Unilever_Plantation_Progress_Data-CLEAN.csv')\n",
    "# Extract lat,lon,frequency,buyer,last_sold\n",
    "plantation_df = plantation_df[['Member ID','Latitude','Longitude','Harvest Rate Days on High Season','Harvest Rate Days on Low Season','Plot Nr','Average Age Tree', 'Average Production on High Season','Average Production on Low Season','Garden Area (by Survey)']].copy()\n",
    "plantation_df = plantation_df.rename(index=str, columns={'Member ID':\"id\",'Latitude':\"lat\",'Longitude':\"lon\",'Harvest Rate Days on High Season':\"frequency_high\",'Harvest Rate Days on Low Season':\"frequency_low\", 'Plot Nr':\"plot\", 'Average Age Tree':\"age_tree\", 'Average Production on High Season':'high','Average Production on Low Season':'low','Garden Area (by Survey)':'area'})\n",
    "list(plantation_df)"
   ]
  },
  {
   "cell_type": "code",
   "execution_count": 84,
   "metadata": {
    "collapsed": false
   },
   "outputs": [
    {
     "data": {
      "text/plain": [
       "['id', 'type', 'buyer_name', 'plot', 'last_sold']"
      ]
     },
     "execution_count": 84,
     "metadata": {},
     "output_type": "execute_result"
    }
   ],
   "source": [
    "# Load buyer data\n",
    "buyer_data = pd.read_csv('/Users/sergiocamelo/Dropbox/Sergio-Joann/20180412_Unilever_Main_Buyer_Progress_Data-CLEAN.csv')\n",
    "# Extract names of buyer, plot number, last date sold\n",
    "buyer_data = buyer_data[['Member ID','Buyer Type','Buyer Name','Plot Nr', 'FFB Last Sold Date']].copy()\n",
    "buyer_data = buyer_data.rename(index=str, columns={'Member ID':\"id\", 'Buyer Type':\"type\", \"Buyer Name\":\"buyer_name\", 'Plot Nr':\"plot\", 'FFB Last Sold Date':\"last_sold\"})\n",
    "list(buyer_data)"
   ]
  },
  {
   "cell_type": "code",
   "execution_count": 85,
   "metadata": {
    "collapsed": false
   },
   "outputs": [
    {
     "name": "stdout",
     "output_type": "stream",
     "text": [
      "Number of plantations: 5419\n",
      "Number of plantations with buyers: 4142\n",
      "Number of plantations in join: 4045\n",
      "Number of plantations type middleman: 3581\n"
     ]
    }
   ],
   "source": [
    "# Merge to obtain a dataset with buyer_name and last date sold\n",
    "result = pd.merge(plantation_df, buyer_data, on=['id','plot'], how='inner')\n",
    "print(\"Number of plantations: %d\" % (len(plantation_df)))\n",
    "print(\"Number of plantations with buyers: %d\" % (len(buyer_data)))\n",
    "print(\"Number of plantations in join: %d\" % (len(result)))\n",
    "result = result[result.type=='3 - Middleman/Agent']\n",
    "print(\"Number of plantations type middleman: %d\" % (len(result)))"
   ]
  },
  {
   "cell_type": "code",
   "execution_count": 86,
   "metadata": {
    "collapsed": true
   },
   "outputs": [],
   "source": [
    "# There is a problem with duplicates that Joann should check\n",
    "result[result.duplicated(subset=['id','plot'], keep=False)].to_csv('/Users/sergiocamelo/Dropbox/Sergio-Joann/CheckData/duplicates.csv')"
   ]
  },
  {
   "cell_type": "code",
   "execution_count": 87,
   "metadata": {
    "collapsed": false
   },
   "outputs": [
    {
     "name": "stdout",
     "output_type": "stream",
     "text": [
      "Number of plantation in join with cluster: 3581\n"
     ]
    }
   ],
   "source": [
    "names_clusters_df = pd.read_csv(\"/Users/sergiocamelo/Dropbox/Sergio-Joann/Names/Decisions/farmer_cluster_mappings_04222018.csv\")\n",
    "names_clusters_df = names_clusters_df[['id','plot','buyer_name','cluster']]\n",
    "result = pd.merge(result, names_clusters_df, how='inner')\n",
    "print(\"Number of plantation in join with cluster: %d\" % (len(result)))"
   ]
  },
  {
   "cell_type": "code",
   "execution_count": 88,
   "metadata": {
    "collapsed": false
   },
   "outputs": [
    {
     "name": "stdout",
     "output_type": "stream",
     "text": [
      "Number of plantations with latlon: 2794\n",
      "Number of plantations that produce: 2719\n",
      "Number of plantations that produce: 2710\n",
      "Number of plantations with area: 2710\n"
     ]
    }
   ],
   "source": [
    "#Use only data with lat_lon and with productions\n",
    "df_full = result[np.logical_and(pd.notnull(result['lon']),pd.notnull(result['lat']))].copy()\n",
    "print(\"Number of plantations with latlon: %d\" % (len(df_full)))\n",
    "# Use data with productions\n",
    "df_full = df_full[np.logical_and(df_full['frequency_high']!=0,df_full['frequency_low']!=0)].copy()\n",
    "print(\"Number of plantations that produce: %d\" % (len(df_full)))\n",
    "# Use data with productions\n",
    "df_full = df_full[pd.notnull(df_full['high'])].copy()\n",
    "df_full = df_full[pd.notnull(df_full['low'])].copy()\n",
    "df_full = df_full[df_full['high']!=0].copy()\n",
    "df_full = df_full[df_full['low']!=0].copy()\n",
    "print(\"Number of plantations that produce: %d\" % (len(df_full)))\n",
    "# Use data with area\n",
    "df_full = df_full[pd.notnull(df_full['area'])].copy()\n",
    "df_full = df_full[df_full['area']!=0].copy()\n",
    "print(\"Number of plantations with area: %d\" % (len(df_full)))"
   ]
  },
  {
   "cell_type": "code",
   "execution_count": 89,
   "metadata": {
    "collapsed": false
   },
   "outputs": [],
   "source": [
    "# There is a problem with frequency of harvest days, so we fix it\n",
    "corrections = {float('nan'):[0,6],\n",
    "    7:[7,10],\n",
    "    14:[2,3,12,14,15,16,18,19,300,800,1,2,12,8],\n",
    "    21:[20,21,25],\n",
    "    28:[30]}\n",
    "invert_corrections = {}\n",
    "for k,l in corrections.iteritems():\n",
    "    for s in l:\n",
    "        invert_corrections[s] = k\n",
    "df_full['frequency_high'] = df_full['frequency_high'].map(invert_corrections)\n",
    "df_full['frequency_low'] = df_full['frequency_low'].map(invert_corrections)"
   ]
  },
  {
   "cell_type": "code",
   "execution_count": 90,
   "metadata": {
    "collapsed": false
   },
   "outputs": [
    {
     "name": "stdout",
     "output_type": "stream",
     "text": [
      "Number of plantations without prod outliers: 2710\n"
     ]
    }
   ],
   "source": [
    "# To check outliers we calculate daily production\n",
    "prod_low = df_full['low']/df_full['frequency_low']/df_full['area']\n",
    "prod_high = df_full['high']/df_full['frequency_high']/df_full['area']\n",
    "\n",
    "# Delete outliers\n",
    "df_full = df_full[df_full['high']/df_full['frequency_high']/df_full['area']<0.6].copy()\n",
    "df_full = df_full[df_full['low']/df_full['frequency_low']/df_full['area']<0.6].copy()\n",
    "print(\"Number of plantations without prod outliers: %d\" % (len(df_full)))"
   ]
  },
  {
   "cell_type": "code",
   "execution_count": 91,
   "metadata": {
    "collapsed": false
   },
   "outputs": [
    {
     "name": "stdout",
     "output_type": "stream",
     "text": [
      "Number of plantations with date: 2693\n"
     ]
    }
   ],
   "source": [
    "# Has pickup date \n",
    "df_full = df_full[pd.notnull(df_full['last_sold'])].copy()\n",
    "print(\"Number of plantations with date: %d\" % (len(df_full)))"
   ]
  },
  {
   "cell_type": "code",
   "execution_count": 92,
   "metadata": {
    "collapsed": false
   },
   "outputs": [],
   "source": [
    "# Generate days of pickup\n",
    "period = 3*28 # Use three month period\n",
    "ref_day = datetime.datetime.strptime('1/1/2000', \"%m/%d/%Y\")\n",
    "days = np.array([(parse(v)-ref_day).days for v in df_full['last_sold'].values])\n",
    "df_full['day_mod'] = days%period\n",
    "def calculate_pickup_days(row):\n",
    "    d = row['day_mod']\n",
    "    freq = row['frequency_high']\n",
    "    l = []\n",
    "    for i in range(int(period/freq)):\n",
    "        l.append((d + i * freq)%period)\n",
    "    return l\n",
    "df_full['pickup_days'] = df_full.apply(calculate_pickup_days, axis=1)"
   ]
  },
  {
   "cell_type": "code",
   "execution_count": 93,
   "metadata": {
    "collapsed": true
   },
   "outputs": [],
   "source": [
    "# Save cleaned data\n",
    "df_full.to_pickle('cleaned_plantation_data.pkl')"
   ]
  }
 ],
 "metadata": {
  "anaconda-cloud": {},
  "kernelspec": {
   "display_name": "Python [default]",
   "language": "python",
   "name": "python2"
  },
  "language_info": {
   "codemirror_mode": {
    "name": "ipython",
    "version": 2
   },
   "file_extension": ".py",
   "mimetype": "text/x-python",
   "name": "python",
   "nbconvert_exporter": "python",
   "pygments_lexer": "ipython2",
   "version": "2.7.12"
  }
 },
 "nbformat": 4,
 "nbformat_minor": 1
}
