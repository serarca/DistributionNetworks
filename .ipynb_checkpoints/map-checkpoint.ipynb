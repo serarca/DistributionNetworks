{
 "cells": [
  {
   "cell_type": "code",
   "execution_count": 1,
   "metadata": {
    "collapsed": false
   },
   "outputs": [
    {
     "name": "stderr",
     "output_type": "stream",
     "text": [
      "/Users/sergiocamelo/anaconda/lib/python2.7/site-packages/matplotlib/font_manager.py:273: UserWarning: Matplotlib is building the font cache using fc-list. This may take a moment.\n",
      "  warnings.warn('Matplotlib is building the font cache using fc-list. This may take a moment.')\n",
      "/Users/sergiocamelo/anaconda/lib/python2.7/site-packages/IPython/core/interactiveshell.py:2717: DtypeWarning: Columns (131) have mixed types. Specify dtype option on import or set low_memory=False.\n",
      "  interactivity=interactivity, compiler=compiler, result=result)\n"
     ]
    }
   ],
   "source": [
    "%matplotlib inline\n",
    "\n",
    "import datetime\n",
    "from dateutil import parser\n",
    "\n",
    "\n",
    "from geopandas import GeoDataFrame\n",
    "import pandas as pd\n",
    "import numpy as np\n",
    "from shapely.geometry import Point\n",
    "\n",
    "# Read data\n",
    "df = pd.read_csv('positions.csv')"
   ]
  },
  {
   "cell_type": "code",
   "execution_count": 2,
   "metadata": {
    "collapsed": false
   },
   "outputs": [
    {
     "data": {
      "text/plain": [
       "['\\xef\\xbb\\xbfNo.',\n",
       " 'District',\n",
       " 'Sub District',\n",
       " 'Village',\n",
       " 'Member ID',\n",
       " 'Member Name',\n",
       " 'Plot Nr',\n",
       " 'Survey Nr',\n",
       " 'Date Collection',\n",
       " 'Plantation Village',\n",
       " 'Plantation Photo',\n",
       " 'Plantation Photo Description',\n",
       " 'Garden Area (by Survey)',\n",
       " 'Garden Area (by Polygon)',\n",
       " 'Latitude',\n",
       " 'Longitude',\n",
       " 'Land Ownership Type',\n",
       " 'Owner Of The Garden',\n",
       " 'Ownership Document',\n",
       " 'Ownership Document (Other)',\n",
       " 'Owner Document Is Owner',\n",
       " 'Have STDB',\n",
       " 'Have SPPL',\n",
       " 'Business Model',\n",
       " 'How Obtain Plantation',\n",
       " 'How Obtain Plantation (Other)',\n",
       " 'Plantation Condition Established',\n",
       " 'Average Age Tree',\n",
       " 'Soil Type',\n",
       " 'First Time Planting Year',\n",
       " 'TBM',\n",
       " 'TM',\n",
       " 'TR',\n",
       " 'Tree Total',\n",
       " 'Type Plant Mate Marihat',\n",
       " 'Number Marihat',\n",
       " 'Type Plant Mate Dumpy',\n",
       " 'Number Dumpy',\n",
       " 'Type Plant Mate Lonsum',\n",
       " 'Number Lonsum',\n",
       " 'Type Plant Mate Simalungun',\n",
       " 'Number Simalungun',\n",
       " 'Type Plant Mate Danimas',\n",
       " 'Number Danimas',\n",
       " 'Type Plant Mate Other',\n",
       " 'Mate Other',\n",
       " 'Number Mate Other',\n",
       " 'Type Plant Mate Do Not Know',\n",
       " 'Number Do Not Know',\n",
       " 'Owner Cultivate Farm',\n",
       " 'Harvest Rate Days on High Season',\n",
       " 'Harvest Rate Days on Low Season',\n",
       " 'Average Production on High Season',\n",
       " 'Average Production on Low Season',\n",
       " 'Total High Season Months',\n",
       " 'Total Low Season Months',\n",
       " 'High Season Production',\n",
       " 'Low Season Production',\n",
       " 'Annual Production',\n",
       " 'Productivity',\n",
       " 'Lean Harvest Season January',\n",
       " 'Lean Harvest Season Febuary',\n",
       " 'Lean Harvest Season March',\n",
       " 'Lean Harvest Season April',\n",
       " 'Lean Harvest Season May',\n",
       " 'Lean Harvest Season June',\n",
       " 'Lean Harvest Season July',\n",
       " 'Lean Harvest Season August',\n",
       " 'Lean Harvest Season September',\n",
       " 'Lean Harvest Season October',\n",
       " 'Lean Harvest Season November',\n",
       " 'Lean Harvest Season December',\n",
       " 'Family Harvesting',\n",
       " 'Labor Harvesting',\n",
       " 'How Many Different Buyer Sold To Last Year',\n",
       " 'How Many Different Mill Sold To Last Year',\n",
       " 'Use EFB Fertilizer',\n",
       " 'Fertilizer Description',\n",
       " 'Fertilizer Notes',\n",
       " 'use Paraquat',\n",
       " 'Pesticide Description',\n",
       " 'Perticide Notes',\n",
       " 'Comment',\n",
       " 'Fertilizer Non Organic',\n",
       " 'Fertilizer Money Spent Non Organic',\n",
       " 'Fertilizer NPK Times per Year',\n",
       " 'Fertilizer NPK Dose',\n",
       " 'Fertilizer TSP Times per Year',\n",
       " 'Fertilizer TSP Dose',\n",
       " 'Fertilizer CU Times per Year',\n",
       " 'Fertilizer CU Dose',\n",
       " 'Fertilizer KCL Times per Year',\n",
       " 'Fertilizer KCL Dose',\n",
       " 'Fertilizer NPK Muti Times per Year',\n",
       " 'Fertilizer NPK Muti Dose',\n",
       " 'Fertilizer Borat Times per Year',\n",
       " 'Fertilizer Borat Dose',\n",
       " 'Fertilizer Dolomite Times per Year',\n",
       " 'Fertilizer Dolomite Dose',\n",
       " 'Fertilizer With Non Organic TBM',\n",
       " 'Fertilizer With Non Organic TM',\n",
       " 'Fertilizer With Non Organic TR',\n",
       " 'Use Organic Fertilizer ',\n",
       " 'Money Spent on Organic Fertilizer',\n",
       " 'Fertilizer PBA Times per Year',\n",
       " 'Fertilizer PBA Dose',\n",
       " 'Fertilizer PBT Times per Year',\n",
       " 'Fertilizer PBD Dose',\n",
       " 'Fertilizer CPB Times per Year',\n",
       " 'Fertilizer CPB Dose',\n",
       " 'Fertilizer Manure Times per Year',\n",
       " 'Fertilizer Manure Dose',\n",
       " 'Fertilizer with Organic on TBM',\n",
       " 'Fertilizer with Organic on TM',\n",
       " 'Fertilizer with Organic on TR',\n",
       " 'Using Herbicide',\n",
       " 'Money Spent on Herbicide ',\n",
       " 'Herbicide Frequency',\n",
       " 'Herbicide Dose',\n",
       " 'Brand Herbisida',\n",
       " 'Other Herbicide',\n",
       " 'Using Insecticide',\n",
       " 'Money Spent on Insecticide',\n",
       " 'Insecticide Frequency',\n",
       " 'Insecticide Dose',\n",
       " 'Brand Insecticide',\n",
       " 'PeInsecOther',\n",
       " 'Using Fungicide',\n",
       " 'Money Spent on Fungicide',\n",
       " 'Fungicide Frequency',\n",
       " 'Fungicide Dose',\n",
       " 'Brand Fungicide',\n",
       " 'Fungicide Other',\n",
       " 'Pest Rats',\n",
       " 'Pest Olygonichus',\n",
       " 'Pest Satora Nitens',\n",
       " 'Pest Tirathaba Mundella',\n",
       " 'Pest Rinocheros Beetle',\n",
       " 'Pest Elephant',\n",
       " 'Pest Other',\n",
       " 'Pest Other (Text)',\n",
       " 'Blast Disease',\n",
       " 'DisMainGeno',\n",
       " 'Genoderma Disease',\n",
       " 'DisMainSteam',\n",
       " 'Upper Steam Rot Disease',\n",
       " 'DisMainBud',\n",
       " 'Bud Rot Disease',\n",
       " 'DisMainSpear',\n",
       " 'Spear Rot Disease',\n",
       " 'DisMainYellow',\n",
       " 'Patch Yellow Disease',\n",
       " 'DisMainAnt',\n",
       " 'Anthracnose Disease',\n",
       " 'DisMainCrown',\n",
       " 'Crown Disease',\n",
       " 'DisMainViscular',\n",
       " 'Viscular Disease',\n",
       " 'DisMainBunch',\n",
       " 'Bunch Rot Disease',\n",
       " 'DisMainOther',\n",
       " 'Other Disease',\n",
       " 'Other Disease (Other)',\n",
       " 'Date Created',\n",
       " 'CreatedBy',\n",
       " 'Date Updated',\n",
       " 'LastModifiedBy',\n",
       " 'Date Sync']"
      ]
     },
     "execution_count": 2,
     "metadata": {},
     "output_type": "execute_result"
    }
   ],
   "source": [
    "# Extract lat,lon,frequency,buyer,last_sold\n",
    "list(df)"
   ]
  },
  {
   "cell_type": "code",
   "execution_count": 120,
   "metadata": {
    "collapsed": false
   },
   "outputs": [],
   "source": [
    "# Parse date sold\n",
    "df.last_sold = [parser.parse(df.last_sold[i]) for i in range(df.last_sold.count())]"
   ]
  },
  {
   "cell_type": "code",
   "execution_count": 121,
   "metadata": {
    "collapsed": false
   },
   "outputs": [
    {
     "data": {
      "text/html": [
       "<div>\n",
       "<table border=\"1\" class=\"dataframe\">\n",
       "  <thead>\n",
       "    <tr style=\"text-align: right;\">\n",
       "      <th></th>\n",
       "      <th>lat</th>\n",
       "      <th>lon</th>\n",
       "      <th>frequency</th>\n",
       "      <th>buyer</th>\n",
       "      <th>last_sold</th>\n",
       "    </tr>\n",
       "  </thead>\n",
       "  <tbody>\n",
       "    <tr>\n",
       "      <th>0</th>\n",
       "      <td>-0.413457</td>\n",
       "      <td>102.582787</td>\n",
       "      <td>15</td>\n",
       "      <td>Muklis</td>\n",
       "      <td>2017-09-10</td>\n",
       "    </tr>\n",
       "    <tr>\n",
       "      <th>1</th>\n",
       "      <td>-0.421501</td>\n",
       "      <td>102.579102</td>\n",
       "      <td>15</td>\n",
       "      <td>Silalahi</td>\n",
       "      <td>2017-09-26</td>\n",
       "    </tr>\n",
       "    <tr>\n",
       "      <th>2</th>\n",
       "      <td>-0.427449</td>\n",
       "      <td>102.578453</td>\n",
       "      <td>15</td>\n",
       "      <td>Gaib</td>\n",
       "      <td>2017-10-08</td>\n",
       "    </tr>\n",
       "    <tr>\n",
       "      <th>3</th>\n",
       "      <td>-0.422377</td>\n",
       "      <td>102.578857</td>\n",
       "      <td>15</td>\n",
       "      <td>Gaib</td>\n",
       "      <td>2017-10-03</td>\n",
       "    </tr>\n",
       "    <tr>\n",
       "      <th>4</th>\n",
       "      <td>-0.424441</td>\n",
       "      <td>102.576378</td>\n",
       "      <td>15</td>\n",
       "      <td>Gaib</td>\n",
       "      <td>2017-10-05</td>\n",
       "    </tr>\n",
       "    <tr>\n",
       "      <th>5</th>\n",
       "      <td>-0.682804</td>\n",
       "      <td>102.489128</td>\n",
       "      <td>15</td>\n",
       "      <td>DO RGN</td>\n",
       "      <td>2017-10-01</td>\n",
       "    </tr>\n",
       "    <tr>\n",
       "      <th>6</th>\n",
       "      <td>-0.702206</td>\n",
       "      <td>102.508072</td>\n",
       "      <td>10</td>\n",
       "      <td>rgn</td>\n",
       "      <td>2017-08-11</td>\n",
       "    </tr>\n",
       "    <tr>\n",
       "      <th>7</th>\n",
       "      <td>-0.695469</td>\n",
       "      <td>102.539223</td>\n",
       "      <td>15</td>\n",
       "      <td>tj ( dandru )</td>\n",
       "      <td>2017-08-24</td>\n",
       "    </tr>\n",
       "    <tr>\n",
       "      <th>8</th>\n",
       "      <td>-0.684568</td>\n",
       "      <td>102.543175</td>\n",
       "      <td>15</td>\n",
       "      <td>Gagok (Ggk)</td>\n",
       "      <td>2017-09-05</td>\n",
       "    </tr>\n",
       "    <tr>\n",
       "      <th>9</th>\n",
       "      <td>-0.708039</td>\n",
       "      <td>102.566833</td>\n",
       "      <td>15</td>\n",
       "      <td>Siswanto</td>\n",
       "      <td>2017-09-17</td>\n",
       "    </tr>\n",
       "  </tbody>\n",
       "</table>\n",
       "</div>"
      ],
      "text/plain": [
       "        lat         lon  frequency          buyer  last_sold\n",
       "0 -0.413457  102.582787         15         Muklis 2017-09-10\n",
       "1 -0.421501  102.579102         15       Silalahi 2017-09-26\n",
       "2 -0.427449  102.578453         15           Gaib 2017-10-08\n",
       "3 -0.422377  102.578857         15           Gaib 2017-10-03\n",
       "4 -0.424441  102.576378         15           Gaib 2017-10-05\n",
       "5 -0.682804  102.489128         15         DO RGN 2017-10-01\n",
       "6 -0.702206  102.508072         10            rgn 2017-08-11\n",
       "7 -0.695469  102.539223         15  tj ( dandru ) 2017-08-24\n",
       "8 -0.684568  102.543175         15    Gagok (Ggk) 2017-09-05\n",
       "9 -0.708039  102.566833         15       Siswanto 2017-09-17"
      ]
     },
     "execution_count": 121,
     "metadata": {},
     "output_type": "execute_result"
    }
   ],
   "source": [
    "df"
   ]
  },
  {
   "cell_type": "code",
   "execution_count": 129,
   "metadata": {
    "collapsed": false
   },
   "outputs": [],
   "source": [
    "# Convert date to days\n",
    "days = [(df.last_sold[i].to_datetime()-datetime.datetime(1970,1,1)).total_seconds() / (60*60*24) for i in range(df.last_sold.count())]\n",
    "# Construct delivery group\n",
    "group = [{\"g1\":(days[i] % 7),\"g2\":(days[i] % 7)+7} if df.frequency[i] == 10 else {\"g1\":(days[i] % 14)} for i in range(df.last_sold.count()) ]"
   ]
  },
  {
   "cell_type": "code",
   "execution_count": 130,
   "metadata": {
    "collapsed": false
   },
   "outputs": [],
   "source": [
    "df['delivery_group'] = group"
   ]
  },
  {
   "cell_type": "code",
   "execution_count": 131,
   "metadata": {
    "collapsed": false
   },
   "outputs": [
    {
     "data": {
      "text/html": [
       "<div>\n",
       "<table border=\"1\" class=\"dataframe\">\n",
       "  <thead>\n",
       "    <tr style=\"text-align: right;\">\n",
       "      <th></th>\n",
       "      <th>lat</th>\n",
       "      <th>lon</th>\n",
       "      <th>frequency</th>\n",
       "      <th>buyer</th>\n",
       "      <th>last_sold</th>\n",
       "      <th>delivery_group</th>\n",
       "    </tr>\n",
       "  </thead>\n",
       "  <tbody>\n",
       "    <tr>\n",
       "      <th>0</th>\n",
       "      <td>-0.413457</td>\n",
       "      <td>102.582787</td>\n",
       "      <td>15</td>\n",
       "      <td>Muklis</td>\n",
       "      <td>2017-09-10</td>\n",
       "      <td>{u'g1': 3.0}</td>\n",
       "    </tr>\n",
       "    <tr>\n",
       "      <th>1</th>\n",
       "      <td>-0.421501</td>\n",
       "      <td>102.579102</td>\n",
       "      <td>15</td>\n",
       "      <td>Silalahi</td>\n",
       "      <td>2017-09-26</td>\n",
       "      <td>{u'g1': 5.0}</td>\n",
       "    </tr>\n",
       "    <tr>\n",
       "      <th>2</th>\n",
       "      <td>-0.427449</td>\n",
       "      <td>102.578453</td>\n",
       "      <td>15</td>\n",
       "      <td>Gaib</td>\n",
       "      <td>2017-10-08</td>\n",
       "      <td>{u'g1': 3.0}</td>\n",
       "    </tr>\n",
       "    <tr>\n",
       "      <th>3</th>\n",
       "      <td>-0.422377</td>\n",
       "      <td>102.578857</td>\n",
       "      <td>15</td>\n",
       "      <td>Gaib</td>\n",
       "      <td>2017-10-03</td>\n",
       "      <td>{u'g1': 12.0}</td>\n",
       "    </tr>\n",
       "    <tr>\n",
       "      <th>4</th>\n",
       "      <td>-0.424441</td>\n",
       "      <td>102.576378</td>\n",
       "      <td>15</td>\n",
       "      <td>Gaib</td>\n",
       "      <td>2017-10-05</td>\n",
       "      <td>{u'g1': 0.0}</td>\n",
       "    </tr>\n",
       "    <tr>\n",
       "      <th>5</th>\n",
       "      <td>-0.682804</td>\n",
       "      <td>102.489128</td>\n",
       "      <td>15</td>\n",
       "      <td>DO RGN</td>\n",
       "      <td>2017-10-01</td>\n",
       "      <td>{u'g1': 10.0}</td>\n",
       "    </tr>\n",
       "    <tr>\n",
       "      <th>6</th>\n",
       "      <td>-0.702206</td>\n",
       "      <td>102.508072</td>\n",
       "      <td>10</td>\n",
       "      <td>rgn</td>\n",
       "      <td>2017-08-11</td>\n",
       "      <td>{u'g2': 8.0, u'g1': 1.0}</td>\n",
       "    </tr>\n",
       "    <tr>\n",
       "      <th>7</th>\n",
       "      <td>-0.695469</td>\n",
       "      <td>102.539223</td>\n",
       "      <td>15</td>\n",
       "      <td>tj ( dandru )</td>\n",
       "      <td>2017-08-24</td>\n",
       "      <td>{u'g1': 0.0}</td>\n",
       "    </tr>\n",
       "    <tr>\n",
       "      <th>8</th>\n",
       "      <td>-0.684568</td>\n",
       "      <td>102.543175</td>\n",
       "      <td>15</td>\n",
       "      <td>Gagok (Ggk)</td>\n",
       "      <td>2017-09-05</td>\n",
       "      <td>{u'g1': 12.0}</td>\n",
       "    </tr>\n",
       "    <tr>\n",
       "      <th>9</th>\n",
       "      <td>-0.708039</td>\n",
       "      <td>102.566833</td>\n",
       "      <td>15</td>\n",
       "      <td>Siswanto</td>\n",
       "      <td>2017-09-17</td>\n",
       "      <td>{u'g1': 10.0}</td>\n",
       "    </tr>\n",
       "  </tbody>\n",
       "</table>\n",
       "</div>"
      ],
      "text/plain": [
       "        lat         lon  frequency          buyer  last_sold  \\\n",
       "0 -0.413457  102.582787         15         Muklis 2017-09-10   \n",
       "1 -0.421501  102.579102         15       Silalahi 2017-09-26   \n",
       "2 -0.427449  102.578453         15           Gaib 2017-10-08   \n",
       "3 -0.422377  102.578857         15           Gaib 2017-10-03   \n",
       "4 -0.424441  102.576378         15           Gaib 2017-10-05   \n",
       "5 -0.682804  102.489128         15         DO RGN 2017-10-01   \n",
       "6 -0.702206  102.508072         10            rgn 2017-08-11   \n",
       "7 -0.695469  102.539223         15  tj ( dandru ) 2017-08-24   \n",
       "8 -0.684568  102.543175         15    Gagok (Ggk) 2017-09-05   \n",
       "9 -0.708039  102.566833         15       Siswanto 2017-09-17   \n",
       "\n",
       "             delivery_group  \n",
       "0              {u'g1': 3.0}  \n",
       "1              {u'g1': 5.0}  \n",
       "2              {u'g1': 3.0}  \n",
       "3             {u'g1': 12.0}  \n",
       "4              {u'g1': 0.0}  \n",
       "5             {u'g1': 10.0}  \n",
       "6  {u'g2': 8.0, u'g1': 1.0}  \n",
       "7              {u'g1': 0.0}  \n",
       "8             {u'g1': 12.0}  \n",
       "9             {u'g1': 10.0}  "
      ]
     },
     "execution_count": 131,
     "metadata": {},
     "output_type": "execute_result"
    }
   ],
   "source": [
    "df"
   ]
  },
  {
   "cell_type": "code",
   "execution_count": 109,
   "metadata": {
    "collapsed": false
   },
   "outputs": [],
   "source": [
    "# Create geodataframe\n",
    "geometry = [Point(xy) for xy in zip(df.lon, df.lat)]\n",
    "crs = {'init': 'epsg:4326'}\n",
    "gdf = GeoDataFrame(df, crs=crs, geometry=geometry)\n"
   ]
  },
  {
   "cell_type": "code",
   "execution_count": 112,
   "metadata": {
    "collapsed": false
   },
   "outputs": [
    {
     "data": {
      "text/plain": [
       "[3.0, 5.0, 3.0, 12.0, 0.0, 10.0, 1.0, 0.0, 12.0, 10.0]"
      ]
     },
     "execution_count": 112,
     "metadata": {},
     "output_type": "execute_result"
    }
   ],
   "source": [
    "group"
   ]
  },
  {
   "cell_type": "code",
   "execution_count": 110,
   "metadata": {
    "collapsed": false
   },
   "outputs": [
    {
     "data": {
      "text/plain": [
       "<matplotlib.axes._subplots.AxesSubplot at 0x11b173b10>"
      ]
     },
     "execution_count": 110,
     "metadata": {},
     "output_type": "execute_result"
    },
    {
     "data": {
      "image/png": "[encoded data removed]",
      "text/plain": [
       "<matplotlib.figure.Figure at 0x11b100890>"
      ]
     },
     "metadata": {},
     "output_type": "display_data"
    }
   ],
   "source": [
    "gdf.plot()"
   ]
  },
  {
   "cell_type": "code",
   "execution_count": 21,
   "metadata": {
    "collapsed": true
   },
   "outputs": [],
   "source": [
    "import gmplot"
   ]
  },
  {
   "cell_type": "code",
   "execution_count": 35,
   "metadata": {
    "collapsed": true
   },
   "outputs": [],
   "source": [
    "gmap = gmplot.GoogleMapPlotter(-0.665783, 102.536517,10)\n",
    "#gmap.plot(df.lat, df.lon, 'cornflowerblue', edge_width=10)\n",
    "gmap.scatter(df.lat, df.lon, '#3B0B39', size=500, marker=False)\n",
    "#gmap.scatter(marker_lats, marker_lngs, 'k', marker=True)\n",
    "#gmap.heatmap(heat_lats, heat_lngs)\n",
    "\n",
    "gmap.draw(\"mymap.html\")"
   ]
  },
  {
   "cell_type": "code",
   "execution_count": 26,
   "metadata": {
    "collapsed": false
   },
   "outputs": [
    {
     "data": {
      "text/plain": [
       "0   -0.413457\n",
       "1   -0.421501\n",
       "2   -0.427449\n",
       "3   -0.422377\n",
       "4   -0.424441\n",
       "5   -0.682804\n",
       "6   -0.702206\n",
       "7   -0.695469\n",
       "8   -0.684568\n",
       "9   -0.708039\n",
       "Name: lat, dtype: float64"
      ]
     },
     "execution_count": 26,
     "metadata": {},
     "output_type": "execute_result"
    }
   ],
   "source": [
    "df.lat"
   ]
  },
  {
   "cell_type": "code",
   "execution_count": null,
   "metadata": {
    "collapsed": true
   },
   "outputs": [],
   "source": []
  }
 ],
 "metadata": {
  "anaconda-cloud": {},
  "kernelspec": {
   "display_name": "Python [conda root]",
   "language": "python",
   "name": "conda-root-py"
  },
  "language_info": {
   "codemirror_mode": {
    "name": "ipython",
    "version": 2
   },
   "file_extension": ".py",
   "mimetype": "text/x-python",
   "name": "python",
   "nbconvert_exporter": "python",
   "pygments_lexer": "ipython2",
   "version": "2.7.12"
  }
 },
 "nbformat": 4,
 "nbformat_minor": 1
}
