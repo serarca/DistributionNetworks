{
 "cells": [
  {
   "cell_type": "code",
   "execution_count": 128,
   "metadata": {
    "collapsed": false
   },
   "outputs": [],
   "source": [
    "import glob\n",
    "import json\n",
    "import re\n",
    "import pandas as pd\n",
    "import sys\n",
    "import pickle\n",
    "import numpy as np\n",
    "import copy\n",
    "import math\n",
    "\n",
    "\n",
    "season = \"high\"\n",
    "\n",
    "data_folder = '/Users/sergiocamelo/Dropbox/Sergio-Joann/StandardizedData/'\n",
    "\n",
    "# This script calculates the results of efficiency\n",
    "folder_instances = data_folder+\"instances\"\n",
    "sys.path.insert(0, '/Users/sergiocamelo/Dropbox/Sergio-Joann/Code/LowerBoundsC')\n",
    "import VRPClass\n",
    "\n",
    "\n",
    "# Get coordinates of farmers, mills and trucks\n",
    "dim_trucks = pd.read_csv(data_folder+'dim_trucks.csv')\n",
    "dim_farmers = pd.read_csv(data_folder+'dim_farmers.csv')\n",
    "dim_mills = pd.read_csv(data_folder+'dim_mills.csv')\n",
    "dim_middlemen = pd.read_csv(data_folder+'dim_middlemen.csv')\n",
    "\n",
    "positions_dict = {}\n",
    "for i, row in dim_mills.iterrows():\n",
    "    positions_dict[row[\"code\"]] = (row['latitude'], row['longitude'])\n",
    "for i, row in dim_farmers.iterrows():\n",
    "    positions_dict[row[\"farmer_id\"]+'-'+str(row[\"plot_number\"])] = (row['latitude'], row['longitude'])\n",
    "for i, row in dim_middlemen.iterrows():\n",
    "    positions_dict[row[\"cluster_id\"]] = (row['latitude'], row['longitude'])\n",
    "for i, row in dim_trucks.iterrows():\n",
    "    positions_dict[row[\"truck_id\"]] = positions_dict[float(row[\"cluster_id\"])]\n",
    "\n",
    "import urllib2\n",
    "import json\n",
    "import ipdb\n",
    "# Calculates road distance between two (lat,lon) tuples, also returns time spent\n",
    "# \n",
    "def road_distance(p0,p1, default_speed_mph = 6, detailed = False):\n",
    "    if (not detailed):\n",
    "        response_path = json.loads(urllib2.urlopen(\"http://127.0.0.1:5000/route/v1/driving/%f,%f;%f,%f\"%(p0[1],p0[0],p1[1],p1[0])).read())\n",
    "    else:\n",
    "        response_path = json.loads(urllib2.urlopen(\"http://127.0.0.1:5000/route/v1/driving/%f,%f;%f,%f?steps=true\"%(p0[1],p0[0],p1[1],p1[0])).read())\n",
    "\n",
    "    #Calculate distance\n",
    "    dist_road = response_path['routes'][0]['distance']\n",
    "    response_closest_start = json.loads(urllib2.urlopen('http://127.0.0.1:5000/nearest/v1/foot/%f,%f'%(p0[1],p0[0])).read())\n",
    "    dist_start = response_closest_start['waypoints'][0]['distance']\n",
    "    response_closest_end = json.loads(urllib2.urlopen('http://127.0.0.1:5000/nearest/v1/foot/%f,%f'%(p1[1],p1[0])).read())\n",
    "    dist_end = response_closest_end['waypoints'][0]['distance']\n",
    "    total_dist = dist_road + dist_start + dist_end\n",
    "\n",
    "    # Calculate time\n",
    "    time_road = response_path['routes'][0]['duration']\n",
    "    mile = 1.60934*1000\n",
    "    hour = 60 * 60\n",
    "    time_start = dist_start / mile / default_speed_mph * hour\n",
    "    time_end = dist_end / mile / default_speed_mph * hour\n",
    "    total_time = time_road + time_start + time_end\n",
    "\n",
    "    result = {\n",
    "        \"distance\":total_dist,\n",
    "        \"time\":total_time\n",
    "    }\n",
    "    \n",
    "    # Calculate the partition of the result\n",
    "    if (detailed):\n",
    "        detailed_distance = {\"access\":dist_start + dist_end}\n",
    "        detailed_time = {\"access\":time_start + time_end}\n",
    "        for leg in response_path['routes'][0]['legs']:\n",
    "            for step in leg['steps']:\n",
    "                surface = step[\"ref\"]\n",
    "                print(surface)\n",
    "                time = step[\"duration\"]\n",
    "                distance = step[\"distance\"]\n",
    "                if not (surface in detailed_distance.keys()):\n",
    "                    detailed_distance[surface] = 0\n",
    "                    detailed_time[surface] = 0\n",
    "                detailed_distance[surface]+=distance\n",
    "                detailed_time[surface]+=time\n",
    "    \n",
    "        result.update({\n",
    "                \"detailed_distance\":detailed_distance,\n",
    "                \"detailed_time\":detailed_time,\n",
    "            })\n",
    "        \n",
    "    return result\n",
    "    \n",
    "    \n",
    "def get_distance(a, b, mapping = None, detailed = False):\n",
    "    if a[0] == 'h':\n",
    "        m_a = mapping[a][0]\n",
    "    elif a[0] == 'n':\n",
    "        m_a = mapping[a]\n",
    "    else:\n",
    "        m_a = a\n",
    "    if b[0] == 'h':\n",
    "        m_b = mapping[b][0]\n",
    "    elif b[0] == 'n':\n",
    "        m_b = mapping[b]\n",
    "    else:\n",
    "        m_b = b\n",
    "    return road_distance(positions_dict[m_a],positions_dict[m_b], detailed=detailed)\n",
    "\n",
    "\n",
    "\n"
   ]
  },
  {
   "cell_type": "code",
   "execution_count": 129,
   "metadata": {
    "collapsed": false
   },
   "outputs": [
    {
     "name": "stdout",
     "output_type": "stream",
     "text": [
      "dirt\n",
      "asphalt\n",
      "asphalt\n",
      "gravel\n",
      "gravel\n"
     ]
    },
    {
     "data": {
      "text/plain": [
       "{'detailed_distance': {'access': 6.346348,\n",
       "  u'asphalt': 6907.7,\n",
       "  u'dirt': 35,\n",
       "  u'gravel': 2348},\n",
       " 'detailed_time': {'access': 2.3660685746952166,\n",
       "  u'asphalt': 969.9,\n",
       "  u'dirt': 18.5,\n",
       "  u'gravel': 437.9},\n",
       " 'distance': 9297.046348,\n",
       " 'time': 1428.6660685746951}"
      ]
     },
     "execution_count": 129,
     "metadata": {},
     "output_type": "execute_result"
    }
   ],
   "source": [
    "get_distance(\"t_1\",\"SKIP\",detailed = True)"
   ]
  },
  {
   "cell_type": "code",
   "execution_count": 99,
   "metadata": {
    "collapsed": false
   },
   "outputs": [
    {
     "ename": "UnboundLocalError",
     "evalue": "local variable 'result' referenced before assignment",
     "output_type": "error",
     "traceback": [
      "\u001b[0;31m---------------------------------------------------------------------------\u001b[0m",
      "\u001b[0;31mUnboundLocalError\u001b[0m                         Traceback (most recent call last)",
      "\u001b[0;32m<ipython-input-99-de18744823b3>\u001b[0m in \u001b[0;36m<module>\u001b[0;34m()\u001b[0m\n\u001b[1;32m      1\u001b[0m \u001b[0mp0\u001b[0m \u001b[0;34m=\u001b[0m \u001b[0mpositions_dict\u001b[0m\u001b[0;34m[\u001b[0m\u001b[0;34m\"t_1\"\u001b[0m\u001b[0;34m]\u001b[0m\u001b[0;34m\u001b[0m\u001b[0m\n\u001b[1;32m      2\u001b[0m \u001b[0mp1\u001b[0m \u001b[0;34m=\u001b[0m \u001b[0mpositions_dict\u001b[0m\u001b[0;34m[\u001b[0m\u001b[0;34m\"SKIP\"\u001b[0m\u001b[0;34m]\u001b[0m\u001b[0;34m\u001b[0m\u001b[0m\n\u001b[0;32m----> 3\u001b[0;31m \u001b[0mroad_distance\u001b[0m\u001b[0;34m(\u001b[0m\u001b[0mp0\u001b[0m\u001b[0;34m,\u001b[0m\u001b[0mp1\u001b[0m\u001b[0;34m,\u001b[0m\u001b[0mdetailed\u001b[0m\u001b[0;34m=\u001b[0m\u001b[0mTrue\u001b[0m\u001b[0;34m)\u001b[0m\u001b[0;34m\u001b[0m\u001b[0m\n\u001b[0m",
      "\u001b[0;32m<ipython-input-97-9a961755f197>\u001b[0m in \u001b[0;36mroad_distance\u001b[0;34m(p0, p1, default_speed_mph, detailed)\u001b[0m\n\u001b[1;32m     46\u001b[0m                 \u001b[0mdetailed_time\u001b[0m\u001b[0;34m[\u001b[0m\u001b[0msurface\u001b[0m\u001b[0;34m]\u001b[0m\u001b[0;34m+=\u001b[0m\u001b[0mtime\u001b[0m\u001b[0;34m\u001b[0m\u001b[0m\n\u001b[1;32m     47\u001b[0m \u001b[0;34m\u001b[0m\u001b[0m\n\u001b[0;32m---> 48\u001b[0;31m         result.update({\n\u001b[0m\u001b[1;32m     49\u001b[0m                 \u001b[0;34m\"detailed_distance\"\u001b[0m\u001b[0;34m:\u001b[0m\u001b[0mdetailed_distance\u001b[0m\u001b[0;34m,\u001b[0m\u001b[0;34m\u001b[0m\u001b[0m\n\u001b[1;32m     50\u001b[0m                 \u001b[0;34m\"detailed_time\"\u001b[0m\u001b[0;34m:\u001b[0m\u001b[0mdetailed_time\u001b[0m\u001b[0;34m,\u001b[0m\u001b[0;34m\u001b[0m\u001b[0m\n",
      "\u001b[0;31mUnboundLocalError\u001b[0m: local variable 'result' referenced before assignment"
     ]
    }
   ],
   "source": [
    "p0 = positions_dict[\"t_1\"]\n",
    "p1 = positions_dict[\"SKIP\"]\n",
    "road_distance(p0,p1,detailed=True)"
   ]
  },
  {
   "cell_type": "code",
   "execution_count": 90,
   "metadata": {
    "collapsed": false
   },
   "outputs": [],
   "source": [
    "result = json.loads(urllib2.urlopen(\"http://127.0.0.1:5000/route/v1/driving/%f,%f;%f,%f?steps=true\"%(p0[1],p0[0],p1[1],p1[0])).read())"
   ]
  },
  {
   "cell_type": "code",
   "execution_count": 91,
   "metadata": {
    "collapsed": false
   },
   "outputs": [
    {
     "data": {
      "text/plain": [
       "{u'distance': 35,\n",
       " u'driving_side': u'right',\n",
       " u'duration': 18.5,\n",
       " u'geometry': u'zvoCciwpR|@H',\n",
       " u'intersections': [{u'bearings': [190],\n",
       "   u'entry': [True],\n",
       "   u'location': [102.524501, -0.741096],\n",
       "   u'out': 0}],\n",
       " u'maneuver': {u'bearing_after': 190,\n",
       "  u'bearing_before': 0,\n",
       "  u'location': [102.524501, -0.741096],\n",
       "  u'type': u'depart'},\n",
       " u'mode': u'driving',\n",
       " u'name': u'',\n",
       " u'ref': u'dirt',\n",
       " u'weight': 18.5}"
      ]
     },
     "execution_count": 91,
     "metadata": {},
     "output_type": "execute_result"
    }
   ],
   "source": [
    "result['routes'][0]['legs'][0]['steps'][0]"
   ]
  },
  {
   "cell_type": "code",
   "execution_count": 105,
   "metadata": {
    "collapsed": false
   },
   "outputs": [
    {
     "ename": "IndexError",
     "evalue": "list index out of range",
     "output_type": "error",
     "traceback": [
      "\u001b[0;31m---------------------------------------------------------------------------\u001b[0m",
      "\u001b[0;31mIndexError\u001b[0m                                Traceback (most recent call last)",
      "\u001b[0;32m<ipython-input-105-993b74f4c0a6>\u001b[0m in \u001b[0;36m<module>\u001b[0;34m()\u001b[0m\n\u001b[0;32m----> 1\u001b[0;31m \u001b[0mresult\u001b[0m\u001b[0;34m[\u001b[0m\u001b[0;34m'routes'\u001b[0m\u001b[0;34m]\u001b[0m\u001b[0;34m[\u001b[0m\u001b[0;36m0\u001b[0m\u001b[0;34m]\u001b[0m\u001b[0;34m[\u001b[0m\u001b[0;34m'legs'\u001b[0m\u001b[0;34m]\u001b[0m\u001b[0;34m[\u001b[0m\u001b[0;36m0\u001b[0m\u001b[0;34m]\u001b[0m\u001b[0;34m[\u001b[0m\u001b[0;34m'steps'\u001b[0m\u001b[0;34m]\u001b[0m\u001b[0;34m[\u001b[0m\u001b[0;36m5\u001b[0m\u001b[0;34m]\u001b[0m\u001b[0;34m\u001b[0m\u001b[0m\n\u001b[0m",
      "\u001b[0;31mIndexError\u001b[0m: list index out of range"
     ]
    }
   ],
   "source": [
    "result['routes'][0]['legs'][0]['steps'][5]"
   ]
  },
  {
   "cell_type": "code",
   "execution_count": 92,
   "metadata": {
    "collapsed": false
   },
   "outputs": [
    {
     "data": {
      "text/plain": [
       "[<matplotlib.lines.Line2D at 0x117adb890>]"
      ]
     },
     "execution_count": 92,
     "metadata": {},
     "output_type": "execute_result"
    },
    {
     "data": {
      "image/png": "[encoded data removed]",
      "text/plain": [
       "<matplotlib.figure.Figure at 0x117213550>"
      ]
     },
     "metadata": {},
     "output_type": "display_data"
    }
   ],
   "source": [
    "%matplotlib inline\n",
    "import matplotlib.pyplot as plt\n",
    "plt.plot(np.transpose(np.array(result['routes'][0]['geometry']['coordinates']))[0], np.transpose(np.array(result['routes'][0]['geometry']['coordinates']))[1])\n"
   ]
  },
  {
   "cell_type": "code",
   "execution_count": 89,
   "metadata": {
    "collapsed": false
   },
   "outputs": [
    {
     "data": {
      "text/plain": [
       "array([[102.524501, 102.524449, 102.52432 , 102.523485, 102.5228  ,\n",
       "        102.52192 , 102.52147 , 102.52112 , 102.520134, 102.51986 ,\n",
       "        102.51959 , 102.51932 , 102.51874 , 102.51844 , 102.51813 ,\n",
       "        102.5176  , 102.51625 , 102.51536 , 102.51521 , 102.51458 ,\n",
       "        102.51434 , 102.51405 , 102.5138  , 102.51324 , 102.51303 ,\n",
       "        102.51287 , 102.51281 , 102.51256 , 102.512495, 102.51225 ,\n",
       "        102.51186 , 102.51133 , 102.51086 , 102.510369, 102.51031 ,\n",
       "        102.5099  , 102.50973 , 102.509567, 102.50948 , 102.50947 ,\n",
       "        102.509789, 102.50981 , 102.50987 , 102.50987 , 102.50962 ,\n",
       "        102.509494, 102.50947 , 102.50924 , 102.50844 , 102.508052,\n",
       "        102.5077  , 102.50713 , 102.50643 , 102.50625 , 102.50617 ,\n",
       "        102.50618 , 102.50625 , 102.5066  , 102.50697 , 102.5077  ,\n",
       "        102.507752, 102.50815 , 102.50845 , 102.508536, 102.5087  ,\n",
       "        102.50893 , 102.50949 , 102.50957 , 102.509617, 102.50979 ,\n",
       "        102.50979 , 102.5097  , 102.50938 , 102.508532, 102.50772 ,\n",
       "        102.507457, 102.507243, 102.506943, 102.50682 , 102.50644 ,\n",
       "        102.5061  , 102.50573 , 102.50536 , 102.50525 , 102.50523 ,\n",
       "        102.50496 , 102.504603, 102.50448 , 102.50425 , 102.50369 ,\n",
       "        102.50306 , 102.503032, 102.50288 , 102.50184 , 102.50119 ,\n",
       "        102.50057 , 102.50022 , 102.49922 , 102.49898 , 102.49881 ,\n",
       "        102.49841 , 102.49779 , 102.4976  , 102.49694 , 102.49657 ,\n",
       "        102.49635 , 102.496151, 102.49592 , 102.49448 , 102.495272,\n",
       "        102.496298, 102.496636, 102.496871, 102.497064, 102.497317,\n",
       "        102.497328, 102.498315, 102.498825, 102.498918, 102.499495,\n",
       "        102.49996 , 102.500086, 102.500148, 102.500609, 102.500594,\n",
       "        102.500685, 102.502139, 102.502298, 102.502401, 102.502428,\n",
       "        102.502286, 102.501885, 102.501514],\n",
       "       [ -0.741096,  -0.741406,  -0.74138 ,  -0.74138 ,  -0.74138 ,\n",
       "         -0.74133 ,  -0.741262,  -0.74121 ,  -0.740889,  -0.7408  ,\n",
       "         -0.74067 ,  -0.74046 ,  -0.73987 ,  -0.73967 ,  -0.73956 ,\n",
       "         -0.73948 ,  -0.73954 ,  -0.73917 ,  -0.73913 ,  -0.73915 ,\n",
       "         -0.73909 ,  -0.73893 ,  -0.73876 ,  -0.73826 ,  -0.73797 ,\n",
       "         -0.73754 ,  -0.73703 ,  -0.73656 ,  -0.736491,  -0.73623 ,\n",
       "         -0.73593 ,  -0.73567 ,  -0.73536 ,  -0.734789,  -0.73472 ,\n",
       "         -0.73412 ,  -0.73375 ,  -0.733208,  -0.73292 ,  -0.73252 ,\n",
       "         -0.730721,  -0.7306  ,  -0.72987 ,  -0.72965 ,  -0.72883 ,\n",
       "         -0.728552,  -0.7285  ,  -0.72815 ,  -0.7271  ,  -0.726749,\n",
       "         -0.72643 ,  -0.72607 ,  -0.7257  ,  -0.72557 ,  -0.72544 ,\n",
       "         -0.7253  ,  -0.72516 ,  -0.72482 ,  -0.72434 ,  -0.72272 ,\n",
       "         -0.722582,  -0.72153 ,  -0.72019 ,  -0.719682,  -0.71871 ,\n",
       "         -0.71799 ,  -0.71701 ,  -0.71671 ,  -0.716357,  -0.71505 ,\n",
       "         -0.71474 ,  -0.7146  ,  -0.7141  ,  -0.713309,  -0.712873,\n",
       "         -0.712666,  -0.712381,  -0.711992,  -0.71183 ,  -0.71149 ,\n",
       "         -0.71127 ,  -0.71112 ,  -0.71085 ,  -0.71061 ,  -0.71022 ,\n",
       "         -0.70912 ,  -0.70837 ,  -0.70811 ,  -0.70774 ,  -0.70728 ,\n",
       "         -0.70661 ,  -0.706597,  -0.70653 ,  -0.70628 ,  -0.70619 ,\n",
       "         -0.70623 ,  -0.70605 ,  -0.7048  ,  -0.70424 ,  -0.70409 ,\n",
       "         -0.70388 ,  -0.70339 ,  -0.70318 ,  -0.70196 ,  -0.70097 ,\n",
       "         -0.70067 ,  -0.700582,  -0.70048 ,  -0.70037 ,  -0.698366,\n",
       "         -0.696258,  -0.695564,  -0.694593,  -0.693992,  -0.692789,\n",
       "         -0.692735,  -0.691109,  -0.690154,  -0.689907,  -0.688416,\n",
       "         -0.687347,  -0.686732,  -0.68639 ,  -0.685017,  -0.684092,\n",
       "         -0.684009,  -0.683995,  -0.68393 ,  -0.683704,  -0.683298,\n",
       "         -0.683038,  -0.682814,  -0.682657]])"
      ]
     },
     "execution_count": 89,
     "metadata": {},
     "output_type": "execute_result"
    }
   ],
   "source": [
    "np.transpose(np.array(result['routes'][0]['geometry']['coordinates']))"
   ]
  },
  {
   "cell_type": "code",
   "execution_count": 2,
   "metadata": {
    "collapsed": false
   },
   "outputs": [],
   "source": [
    "import xml.etree.ElementTree as ET\n",
    "xml = ET.parse(\"/Users/sergiocamelo/Dropbox/Sergio-Joann/StandardizedData/OSMdata/OSRMAux/map_modified.osm\")\n",
    "root = xml.getroot()\n"
   ]
  },
  {
   "cell_type": "code",
   "execution_count": 6,
   "metadata": {
    "collapsed": false
   },
   "outputs": [],
   "source": [
    "count = 0\n",
    "types_surface = set()\n",
    "speeds = set()\n",
    "for way in root.findall(\"way\"):\n",
    "    # Get surface\n",
    "    found = False\n",
    "    found_speed = False\n",
    "    for tag in way.findall(\"tag\"):\n",
    "        if tag.attrib['k'] == 'surface':\n",
    "            surface = tag.attrib['v']\n",
    "            types_surface.add(surface)\n",
    "            found = True\n",
    "        elif tag.attrib['k'] == 'maxspeed':\n",
    "            speed = tag.attrib['v']\n",
    "            speeds.add(speed)\n",
    "            found_speed = True\n",
    "    if not found:\n",
    "        surface = \"asphalt\"\n",
    "        new_element = ET.Element('tag')\n",
    "        new_element.attrib = {'k': 'surface', 'v': surface}\n",
    "        way.append(new_element) \n",
    "    if not found_speed:\n",
    "        speed = \"30 mph\"\n",
    "        new_element = ET.Element('tag')\n",
    "        new_element.attrib = {'k': 'maxspeed', 'v': speed}\n",
    "        way.append(new_element)  \n",
    "    for tag in way.findall(\"tag\"):\n",
    "        if tag.attrib['k'] == 'ref':\n",
    "            way.remove(tag)\n",
    "            count += 1\n",
    "    new_element = ET.Element('tag')\n",
    "    new_element.attrib = {'k': 'ref', 'v': surface}\n",
    "    way.append(new_element)\n",
    "  \n",
    "xml.write(\"/Users/sergiocamelo/Dropbox/Sergio-Joann/StandardizedData/OSMdata/OSRMAux/map_modified_surface.osm\")"
   ]
  },
  {
   "cell_type": "code",
   "execution_count": 7,
   "metadata": {
    "collapsed": false
   },
   "outputs": [
    {
     "data": {
      "text/plain": [
       "{'15',\n",
       " '15 mph',\n",
       " '20',\n",
       " '20 mph',\n",
       " '40',\n",
       " '5 mph',\n",
       " '6',\n",
       " '6 mph',\n",
       " '7 mph',\n",
       " '80',\n",
       " 'Greta Van Fleet'}"
      ]
     },
     "execution_count": 7,
     "metadata": {},
     "output_type": "execute_result"
    }
   ],
   "source": [
    "speeds"
   ]
  },
  {
   "cell_type": "code",
   "execution_count": 45,
   "metadata": {
    "collapsed": false
   },
   "outputs": [],
   "source": [
    "new_element = ET.Element('tag')\n",
    "new_element.attrib = {'k': 'ref', 'v': surface}"
   ]
  },
  {
   "cell_type": "code",
   "execution_count": 47,
   "metadata": {
    "collapsed": false
   },
   "outputs": [
    {
     "data": {
      "text/plain": [
       "{'k': 'ref', 'v': 'dirt'}"
      ]
     },
     "execution_count": 47,
     "metadata": {},
     "output_type": "execute_result"
    }
   ],
   "source": [
    "new_element.attrib"
   ]
  },
  {
   "cell_type": "code",
   "execution_count": null,
   "metadata": {
    "collapsed": true
   },
   "outputs": [],
   "source": []
  }
 ],
 "metadata": {
  "anaconda-cloud": {},
  "kernelspec": {
   "display_name": "Python [conda root]",
   "language": "python",
   "name": "conda-root-py"
  },
  "language_info": {
   "codemirror_mode": {
    "name": "ipython",
    "version": 2
   },
   "file_extension": ".py",
   "mimetype": "text/x-python",
   "name": "python",
   "nbconvert_exporter": "python",
   "pygments_lexer": "ipython2",
   "version": "2.7.10"
  }
 },
 "nbformat": 4,
 "nbformat_minor": 1
}
